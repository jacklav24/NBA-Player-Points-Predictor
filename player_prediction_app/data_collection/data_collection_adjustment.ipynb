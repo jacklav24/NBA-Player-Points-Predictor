{
 "cells": [
  {
   "cell_type": "code",
   "execution_count": 2,
   "metadata": {},
   "outputs": [],
   "source": [
    "import pandas as pd\n",
    "import os"
   ]
  },
  {
   "cell_type": "code",
   "execution_count": 3,
   "metadata": {},
   "outputs": [],
   "source": [
    "team_code_map = {\n",
    "    'ATL': 'ATL',\n",
    "    'BKN': 'BRK',\n",
    "    'BOS': 'BOS',\n",
    "    'CHA': 'CHO',\n",
    "    'CHI': 'CHI',\n",
    "    'DAL': 'DAL',\n",
    "    'DEN': 'DEN',\n",
    "    'DET': 'DET',\n",
    "    'GSW': 'GSW',\n",
    "    'HOU': 'HOU',\n",
    "    'IND': 'IND',\n",
    "    'LAC': 'LAC',\n",
    "    'LAL': 'LAL',\n",
    "    'MEM': 'MEM',\n",
    "    'MIA': 'MIA',\n",
    "    'MIL': 'MIL',\n",
    "    'MIN': 'MIN',\n",
    "    'NOP': 'NOP',\n",
    "    'NYK': 'NYK',\n",
    "    'OKC': 'OKC',\n",
    "    'ORL': 'ORL',\n",
    "    'PHI': 'PHI',\n",
    "    'PHX': 'PHO',\n",
    "    'POR': 'POR',\n",
    "    'SAC': 'SAC',\n",
    "    'SAS': 'SAS',\n",
    "    'TOR': 'TOR',\n",
    "    'UTA': 'UTA',\n",
    "    'WAS': 'WAS'\n",
    "}"
   ]
  },
  {
   "cell_type": "code",
   "execution_count": 1,
   "metadata": {},
   "outputs": [],
   "source": [
    "def transform_nba_game_log(path_to_csv):\n",
    "    df = pd.read_csv(path_to_csv)\n",
    "\n",
    "    # Parse date\n",
    "    df['Date'] = pd.to_datetime(df['GAME_DATE']).dt.strftime('%Y-%m-%d')\n",
    "\n",
    "    # Extract Team and Opponent\n",
    "    def parse_matchup(matchup):\n",
    "        team, at_vs, opp = matchup.split()\n",
    "        return (\n",
    "            team_code_map.get(team, team),\n",
    "            '@' if at_vs == '@' else '',\n",
    "            team_code_map.get(opp, opp)\n",
    "        )\n",
    "\n",
    "    parsed = df['MATCHUP'].apply(parse_matchup)\n",
    "    df['Team'] = parsed.apply(lambda x: x[0])\n",
    "    df[''] = parsed.apply(lambda x: x[1])\n",
    "    df['Opp'] = parsed.apply(lambda x: x[2])\n",
    "\n",
    "    # Result column\n",
    "    df['Result'] = df['WL'] + ' ' + df['PTS'].astype(str) + '-' + (df.groupby('Player_Name')['PTS'].shift(-1).fillna(df['PTS'])).astype(str)\n",
    "\n",
    "    # Games Started: unknown, use '*'\n",
    "    df['GS'] = '*'\n",
    "\n",
    "    # Minutes\n",
    "    df['MP'] = df['MIN']\n",
    "\n",
    "    # Shooting stats\n",
    "    df['FG'] = df['FGM']\n",
    "    df['FG%'] = df['FG_PCT']\n",
    "    df['3P'] = df['FG3M']\n",
    "    df['3PA'] = df['FG3A']\n",
    "    df['3P%'] = df['FG3_PCT']\n",
    "\n",
    "    df['2P'] = df['FGM'] - df['FG3M']\n",
    "    df['2PA'] = df['FGA'] - df['FG3A']\n",
    "    df['2P%'] = df['2P'] / df['2PA']\n",
    "    df['eFG%'] = (df['FGM'] + 0.5 * df['FG3M']) / df['FGA']\n",
    "\n",
    "    df['FT'] = df['FTM']\n",
    "    df['FTA'] = df['FTA']\n",
    "    df['FT%'] = df['FT_PCT']\n",
    "\n",
    "    df['ORB'] = df['OREB']\n",
    "    df['DRB'] = df['DREB']\n",
    "    df['TRB'] = df['REB']\n",
    "\n",
    "    df['AST'] = df['AST']\n",
    "    df['STL'] = df['STL']\n",
    "    df['BLK'] = df['BLK']\n",
    "    df['TOV'] = df['TOV']\n",
    "    df['PF'] = df['PF']\n",
    "    df['PTS'] = df['PTS']\n",
    "\n",
    "    df['+/-'] = df['PLUS_MINUS']\n",
    "    \n",
    "    \n",
    "    num_cols = ['FG', 'FGA', 'FG%', '3P', '3PA', '3P%', '2P', '2PA', '2P%', 'eFG%',\n",
    "        'FT', 'FTA', 'FT%', 'ORB', 'DRB', 'TRB',\n",
    "        'AST', 'STL', 'BLK', 'TOV', 'PF', 'PTS', '+/-'\n",
    "    ]\n",
    "    for col in num_cols:\n",
    "        df[col] = pd.to_numeric(df[col], errors='coerce').fillna(0)\n",
    "\n",
    "    # Select final column order\n",
    "    output_cols = [\n",
    "        'Date', 'Team', '', 'Opp', 'Result', 'GS', 'MP',\n",
    "        'FG', 'FGA', 'FG%', '3P', '3PA', '3P%', '2P', '2PA', '2P%', 'eFG%',\n",
    "        'FT', 'FTA', 'FT%', 'ORB', 'DRB', 'TRB',\n",
    "        'AST', 'STL', 'BLK', 'TOV', 'PF', 'PTS', '+/-'\n",
    "    ]\n",
    "    df.sort_values(by='Date', inplace=True)\n",
    "    df_out = df[output_cols]\n",
    "\n",
    "    return df_out\n"
   ]
  },
  {
   "cell_type": "code",
   "execution_count": 4,
   "metadata": {},
   "outputs": [],
   "source": [
    "filepaths_and_players = [(os.path.join('./player_with_playoff', f), f.replace('.csv', '')) \n",
    "                         for f in os.listdir('./player_with_playoff') if f.endswith('.csv')]"
   ]
  },
  {
   "cell_type": "code",
   "execution_count": 5,
   "metadata": {},
   "outputs": [
    {
     "name": "stdout",
     "output_type": "stream",
     "text": [
      "[('./player_with_playoff/Jalen_Suggs.csv', 'Jalen_Suggs'), ('./player_with_playoff/Sam_Merrill.csv', 'Sam_Merrill'), ('./player_with_playoff/Tobias_Harris.csv', 'Tobias_Harris'), ('./player_with_playoff/Markieff_Morris.csv', 'Markieff_Morris'), ('./player_with_playoff/Pete_Nance.csv', 'Pete_Nance'), ('./player_with_playoff/Jaylen_Clark.csv', 'Jaylen_Clark'), ('./player_with_playoff/Collin_Gillespie.csv', 'Collin_Gillespie'), ('./player_with_playoff/De_Aaron_Fox.csv', 'De_Aaron_Fox'), ('./player_with_playoff/PJ_Hall.csv', 'PJ_Hall'), ('./player_with_playoff/Kyle_Filipowski.csv', 'Kyle_Filipowski'), ('./player_with_playoff/Malevy_Leons.csv', 'Malevy_Leons'), ('./player_with_playoff/Ayo_Dosunmu.csv', 'Ayo_Dosunmu'), ('./player_with_playoff/Kobe_Brown.csv', 'Kobe_Brown'), ('./player_with_playoff/James_Johnson.csv', 'James_Johnson'), ('./player_with_playoff/Jeff_Dowtin_Jr_.csv', 'Jeff_Dowtin_Jr_'), ('./player_with_playoff/Oso_Ighodaro.csv', 'Oso_Ighodaro'), ('./player_with_playoff/Dominick_Barlow.csv', 'Dominick_Barlow'), ('./player_with_playoff/Julian_Champagnie.csv', 'Julian_Champagnie'), ('./player_with_playoff/Karlo_Matković.csv', 'Karlo_Matković'), ('./player_with_playoff/Yuki_Kawamura.csv', 'Yuki_Kawamura'), ('./player_with_playoff/Devin_Carter.csv', 'Devin_Carter'), ('./player_with_playoff/Shaedon_Sharpe.csv', 'Shaedon_Sharpe'), ('./player_with_playoff/Julian_Phillips.csv', 'Julian_Phillips'), ('./player_with_playoff/Patrick_Williams.csv', 'Patrick_Williams'), ('./player_with_playoff/Taylor_Hendricks.csv', 'Taylor_Hendricks'), ('./player_with_playoff/Mason_Plumlee.csv', 'Mason_Plumlee'), ('./player_with_playoff/Goga_Bitadze.csv', 'Goga_Bitadze'), ('./player_with_playoff/Malik_Beasley.csv', 'Malik_Beasley'), ('./player_with_playoff/Lamar_Stevens.csv', 'Lamar_Stevens'), ('./player_with_playoff/Cameron_Payne.csv', 'Cameron_Payne'), ('./player_with_playoff/Naz_Reid.csv', 'Naz_Reid'), ('./player_with_playoff/Lonnie_Walker_IV.csv', 'Lonnie_Walker_IV'), ('./player_with_playoff/Brandon_Miller.csv', 'Brandon_Miller'), ('./player_with_playoff/Pacome_Dadiet.csv', 'Pacome_Dadiet'), ('./player_with_playoff/Blake_Wesley.csv', 'Blake_Wesley'), ('./player_with_playoff/RayJ_Dennis.csv', 'RayJ_Dennis'), ('./player_with_playoff/Reggie_Jackson.csv', 'Reggie_Jackson'), ('./player_with_playoff/Mikal_Bridges.csv', 'Mikal_Bridges'), ('./player_with_playoff/Jalen_Bridges.csv', 'Jalen_Bridges'), ('./player_with_playoff/Isaac_Okoro.csv', 'Isaac_Okoro'), ('./player_with_playoff/Jalen_Hood-Schifino.csv', 'Jalen_Hood-Schifino'), ('./player_with_playoff/P_J__Tucker.csv', 'P_J__Tucker'), ('./player_with_playoff/Quinten_Post.csv', 'Quinten_Post'), ('./player_with_playoff/AJ_Green.csv', 'AJ_Green'), ('./player_with_playoff/Luka_Dončić.csv', 'Luka_Dončić'), ('./player_with_playoff/Jaylen_Brown.csv', 'Jaylen_Brown'), ('./player_with_playoff/D_J__Carton.csv', 'D_J__Carton'), ('./player_with_playoff/Jamal_Shead.csv', 'Jamal_Shead'), ('./player_with_playoff/Evan_Mobley.csv', 'Evan_Mobley'), ('./player_with_playoff/Gui_Santos.csv', 'Gui_Santos'), ('./player_with_playoff/Daniel_Theis.csv', 'Daniel_Theis'), ('./player_with_playoff/Taurean_Prince.csv', 'Taurean_Prince'), ('./player_with_playoff/Santi_Aldama.csv', 'Santi_Aldama'), ('./player_with_playoff/Jabari_Smith_Jr_.csv', 'Jabari_Smith_Jr_'), ('./player_with_playoff/Miles_McBride.csv', 'Miles_McBride'), ('./player_with_playoff/Coby_White.csv', 'Coby_White'), ('./player_with_playoff/Isaiah_Collier.csv', 'Isaiah_Collier'), ('./player_with_playoff/Bobi_Klintman.csv', 'Bobi_Klintman'), ('./player_with_playoff/Jaime_Jaquez_Jr_.csv', 'Jaime_Jaquez_Jr_'), ('./player_with_playoff/Dennis_Schröder.csv', 'Dennis_Schröder'), ('./player_with_playoff/Pat_Connaughton.csv', 'Pat_Connaughton'), ('./player_with_playoff/Anthony_Davis.csv', 'Anthony_Davis'), ('./player_with_playoff/Drew_Peterson.csv', 'Drew_Peterson'), ('./player_with_playoff/Baylor_Scheierman.csv', 'Baylor_Scheierman'), ('./player_with_playoff/Elfrid_Payton.csv', 'Elfrid_Payton'), ('./player_with_playoff/Rudy_Gobert.csv', 'Rudy_Gobert'), ('./player_with_playoff/Amen_Thompson.csv', 'Amen_Thompson'), ('./player_with_playoff/Julian_Strawther.csv', 'Julian_Strawther'), ('./player_with_playoff/Brandon_Clarke.csv', 'Brandon_Clarke'), ('./player_with_playoff/Dyson_Daniels.csv', 'Dyson_Daniels'), ('./player_with_playoff/Scotty_Pippen_Jr_.csv', 'Scotty_Pippen_Jr_'), ('./player_with_playoff/Daniss_Jenkins.csv', 'Daniss_Jenkins'), ('./player_with_playoff/Richaun_Holmes.csv', 'Richaun_Holmes'), ('./player_with_playoff/Adam_Flagler.csv', 'Adam_Flagler'), ('./player_with_playoff/Zyon_Pullin.csv', 'Zyon_Pullin'), ('./player_with_playoff/Micah_Potter.csv', 'Micah_Potter'), ('./player_with_playoff/Darius_Garland.csv', 'Darius_Garland'), ('./player_with_playoff/Guerschon_Yabusele.csv', 'Guerschon_Yabusele'), ('./player_with_playoff/Karl-Anthony_Towns.csv', 'Karl-Anthony_Towns'), ('./player_with_playoff/Joel_Embiid.csv', 'Joel_Embiid'), ('./player_with_playoff/Danté_Exum.csv', 'Danté_Exum'), ('./player_with_playoff/Trey_Jemison_III.csv', 'Trey_Jemison_III'), ('./player_with_playoff/Nate_Williams.csv', 'Nate_Williams'), ('./player_with_playoff/Pascal_Siakam.csv', 'Pascal_Siakam'), ('./player_with_playoff/Isaiah_Crawford.csv', 'Isaiah_Crawford'), ('./player_with_playoff/Jalen_Johnson.csv', 'Jalen_Johnson'), ('./player_with_playoff/Harrison_Ingram.csv', 'Harrison_Ingram'), ('./player_with_playoff/Max_Christie.csv', 'Max_Christie'), ('./player_with_playoff/Georges_Niang.csv', 'Georges_Niang'), ('./player_with_playoff/Chris_Paul.csv', 'Chris_Paul'), ('./player_with_playoff/Branden_Carlson.csv', 'Branden_Carlson'), ('./player_with_playoff/Duncan_Robinson.csv', 'Duncan_Robinson'), ('./player_with_playoff/MarJon_Beauchamp.csv', 'MarJon_Beauchamp'), ('./player_with_playoff/Ja_Kobe_Walter.csv', 'Ja_Kobe_Walter'), ('./player_with_playoff/Jaren_Jackson_Jr_.csv', 'Jaren_Jackson_Jr_'), ('./player_with_playoff/Obi_Toppin.csv', 'Obi_Toppin'), ('./player_with_playoff/Luke_Kennard.csv', 'Luke_Kennard'), ('./player_with_playoff/Gary_Payton_II.csv', 'Gary_Payton_II'), ('./player_with_playoff/Josh_Green.csv', 'Josh_Green'), ('./player_with_playoff/DaQuan_Jeffries.csv', 'DaQuan_Jeffries'), ('./player_with_playoff/Khris_Middleton.csv', 'Khris_Middleton'), ('./player_with_playoff/Deni_Avdija.csv', 'Deni_Avdija'), ('./player_with_playoff/Jordan_Miller.csv', 'Jordan_Miller'), ('./player_with_playoff/Patrick_Baldwin_Jr_.csv', 'Patrick_Baldwin_Jr_'), ('./player_with_playoff/Enrique_Freeman.csv', 'Enrique_Freeman'), ('./player_with_playoff/De_Andre_Hunter.csv', 'De_Andre_Hunter'), ('./player_with_playoff/Jayson_Tatum.csv', 'Jayson_Tatum'), ('./player_with_playoff/Aaron_Wiggins.csv', 'Aaron_Wiggins'), ('./player_with_playoff/Yuri_Collins.csv', 'Yuri_Collins'), ('./player_with_playoff/Jae_Sean_Tate.csv', 'Jae_Sean_Tate'), ('./player_with_playoff/Harrison_Barnes.csv', 'Harrison_Barnes'), ('./player_with_playoff/Zaccharie_Risacher.csv', 'Zaccharie_Risacher'), ('./player_with_playoff/Jordan_Walsh.csv', 'Jordan_Walsh'), ('./player_with_playoff/Justin_Minaya.csv', 'Justin_Minaya'), ('./player_with_playoff/Walker_Kessler.csv', 'Walker_Kessler'), ('./player_with_playoff/Seth_Curry.csv', 'Seth_Curry'), ('./player_with_playoff/Dalton_Knecht.csv', 'Dalton_Knecht'), ('./player_with_playoff/Ricky_Council_IV.csv', 'Ricky_Council_IV'), ('./player_with_playoff/Terry_Taylor.csv', 'Terry_Taylor'), ('./player_with_playoff/David_Duke_Jr_.csv', 'David_Duke_Jr_'), ('./player_with_playoff/Maxwell_Lewis.csv', 'Maxwell_Lewis'), ('./player_with_playoff/Simone_Fontecchio.csv', 'Simone_Fontecchio'), ('./player_with_playoff/Mo_Bamba.csv', 'Mo_Bamba'), ('./player_with_playoff/Domantas_Sabonis.csv', 'Domantas_Sabonis'), ('./player_with_playoff/Immanuel_Quickley.csv', 'Immanuel_Quickley'), ('./player_with_playoff/Damion_Baugh.csv', 'Damion_Baugh'), ('./player_with_playoff/Andre_Jackson_Jr_.csv', 'Andre_Jackson_Jr_'), ('./player_with_playoff/Malaki_Branham.csv', 'Malaki_Branham'), ('./player_with_playoff/Kris_Dunn.csv', 'Kris_Dunn'), ('./player_with_playoff/Anfernee_Simons.csv', 'Anfernee_Simons'), ('./player_with_playoff/Alex_Ducas.csv', 'Alex_Ducas'), ('./player_with_playoff/Jahlil_Okafor.csv', 'Jahlil_Okafor'), ('./player_with_playoff/Malik_Monk.csv', 'Malik_Monk'), ('./player_with_playoff/Kelly_Olynyk.csv', 'Kelly_Olynyk'), ('./player_with_playoff/Paul_Reed.csv', 'Paul_Reed'), ('./player_with_playoff/Damion_Lee.csv', 'Damion_Lee'), ('./player_with_playoff/Tosan_Evbuomwan.csv', 'Tosan_Evbuomwan'), ('./player_with_playoff/Tristan_Thompson.csv', 'Tristan_Thompson'), ('./player_with_playoff/Jalen_Smith.csv', 'Jalen_Smith'), ('./player_with_playoff/KJ_Simpson.csv', 'KJ_Simpson'), ('./player_with_playoff/Marcus_Garrett.csv', 'Marcus_Garrett'), ('./player_with_playoff/Chuma_Okeke.csv', 'Chuma_Okeke'), ('./player_with_playoff/Draymond_Green.csv', 'Draymond_Green'), ('./player_with_playoff/Franz_Wagner.csv', 'Franz_Wagner'), ('./player_with_playoff/Bryce_McGowens.csv', 'Bryce_McGowens'), ('./player_with_playoff/Garrett_Temple.csv', 'Garrett_Temple'), ('./player_with_playoff/Alex_Reese.csv', 'Alex_Reese'), ('./player_with_playoff/KJ_Martin.csv', 'KJ_Martin'), ('./player_with_playoff/Zion_Williamson.csv', 'Zion_Williamson'), ('./player_with_playoff/Nicolas_Batum.csv', 'Nicolas_Batum'), ('./player_with_playoff/Jarace_Walker.csv', 'Jarace_Walker'), ('./player_with_playoff/Scoot_Henderson.csv', 'Scoot_Henderson'), ('./player_with_playoff/Clint_Capela.csv', 'Clint_Capela'), ('./player_with_playoff/Corey_Kispert.csv', 'Corey_Kispert'), ('./player_with_playoff/Patty_Mills.csv', 'Patty_Mills'), ('./player_with_playoff/Grant_Williams.csv', 'Grant_Williams'), ('./player_with_playoff/Andrew_Nembhard.csv', 'Andrew_Nembhard'), ('./player_with_playoff/Cam_Spencer.csv', 'Cam_Spencer'), ('./player_with_playoff/Ben_Simmons.csv', 'Ben_Simmons'), ('./player_with_playoff/Joe_Ingles.csv', 'Joe_Ingles'), ('./player_with_playoff/Luke_Travers.csv', 'Luke_Travers'), ('./player_with_playoff/Yves_Missi.csv', 'Yves_Missi'), ('./player_with_playoff/Cam_Whitmore.csv', 'Cam_Whitmore'), ('./player_with_playoff/Daeqwon_Plowden.csv', 'Daeqwon_Plowden'), ('./player_with_playoff/Jalen_Wilson.csv', 'Jalen_Wilson'), ('./player_with_playoff/Devin_Booker.csv', 'Devin_Booker'), ('./player_with_playoff/Klay_Thompson.csv', 'Klay_Thompson'), ('./player_with_playoff/Isaiah_Mobley.csv', 'Isaiah_Mobley'), ('./player_with_playoff/Keegan_Murray.csv', 'Keegan_Murray'), ('./player_with_playoff/Oshae_Brissett.csv', 'Oshae_Brissett'), ('./player_with_playoff/Shake_Milton.csv', 'Shake_Milton'), ('./player_with_playoff/Jordan_Goodwin.csv', 'Jordan_Goodwin'), ('./player_with_playoff/Markelle_Fultz.csv', 'Markelle_Fultz'), ('./player_with_playoff/Jae_Crowder.csv', 'Jae_Crowder'), ('./player_with_playoff/Delon_Wright.csv', 'Delon_Wright'), ('./player_with_playoff/John_Collins.csv', 'John_Collins'), ('./player_with_playoff/Terry_Rozier.csv', 'Terry_Rozier'), ('./player_with_playoff/Chris_Duarte.csv', 'Chris_Duarte'), ('./player_with_playoff/Wendell_Carter_Jr_.csv', 'Wendell_Carter_Jr_'), ('./player_with_playoff/Quincy_Olivari.csv', 'Quincy_Olivari'), ('./player_with_playoff/Adama_Sanogo.csv', 'Adama_Sanogo'), ('./player_with_playoff/Isaiah_Hartenstein.csv', 'Isaiah_Hartenstein'), ('./player_with_playoff/Tari_Eason.csv', 'Tari_Eason'), ('./player_with_playoff/Daniel_Gafford.csv', 'Daniel_Gafford'), ('./player_with_playoff/Javonte_Green.csv', 'Javonte_Green'), ('./player_with_playoff/Tyson_Etienne.csv', 'Tyson_Etienne'), ('./player_with_playoff/Braxton_Key.csv', 'Braxton_Key'), ('./player_with_playoff/Amir_Coffey.csv', 'Amir_Coffey'), ('./player_with_playoff/Gradey_Dick.csv', 'Gradey_Dick'), ('./player_with_playoff/Landry_Shamet.csv', 'Landry_Shamet'), ('./player_with_playoff/Sandro_Mamukelashvili.csv', 'Sandro_Mamukelashvili'), ('./player_with_playoff/Jakob_Poeltl.csv', 'Jakob_Poeltl'), ('./player_with_playoff/Christian_Braun.csv', 'Christian_Braun'), ('./player_with_playoff/Derrick_White.csv', 'Derrick_White'), ('./player_with_playoff/GG_Jackson.csv', 'GG_Jackson'), ('./player_with_playoff/Ronald_Holland_II.csv', 'Ronald_Holland_II'), ('./player_with_playoff/Jeff_Green.csv', 'Jeff_Green'), ('./player_with_playoff/Sidy_Cissoko.csv', 'Sidy_Cissoko'), ('./player_with_playoff/Josh_Okogie.csv', 'Josh_Okogie'), ('./player_with_playoff/Antonio_Reeves.csv', 'Antonio_Reeves'), ('./player_with_playoff/Lester_Quinones.csv', 'Lester_Quinones'), ('./player_with_playoff/Kevin_McCullar_Jr_.csv', 'Kevin_McCullar_Jr_'), ('./player_with_playoff/Thomas_Bryant.csv', 'Thomas_Bryant'), ('./player_with_playoff/Moritz_Wagner.csv', 'Moritz_Wagner'), ('./player_with_playoff/Jock_Landale.csv', 'Jock_Landale'), ('./player_with_playoff/James_Wiseman.csv', 'James_Wiseman'), ('./player_with_playoff/Tyler_Smith.csv', 'Tyler_Smith'), ('./player_with_playoff/Bilal_Coulibaly.csv', 'Bilal_Coulibaly'), ('./player_with_playoff/Jay_Huff.csv', 'Jay_Huff'), ('./player_with_playoff/Cam_Christie.csv', 'Cam_Christie'), ('./player_with_playoff/Tyler_Kolek.csv', 'Tyler_Kolek'), ('./player_with_playoff/Jordan_Poole.csv', 'Jordan_Poole'), ('./player_with_playoff/Jonathan_Mogbo.csv', 'Jonathan_Mogbo'), ('./player_with_playoff/Keon_Ellis.csv', 'Keon_Ellis'), ('./player_with_playoff/Lauri_Markkanen.csv', 'Lauri_Markkanen'), ('./player_with_playoff/Zach_Edey.csv', 'Zach_Edey'), ('./player_with_playoff/Jaylen_Martin.csv', 'Jaylen_Martin'), ('./player_with_playoff/Ulrich_Chomche.csv', 'Ulrich_Chomche'), ('./player_with_playoff/TyTy_Washington_Jr_.csv', 'TyTy_Washington_Jr_'), ('./player_with_playoff/Jericho_Sims.csv', 'Jericho_Sims'), ('./player_with_playoff/Jerami_Grant.csv', 'Jerami_Grant'), ('./player_with_playoff/Noah_Clowney.csv', 'Noah_Clowney'), ('./player_with_playoff/JT_Thor.csv', 'JT_Thor'), ('./player_with_playoff/Sam_Hauser.csv', 'Sam_Hauser'), ('./player_with_playoff/Aaron_Nesmith.csv', 'Aaron_Nesmith'), ('./player_with_playoff/Caris_LeVert.csv', 'Caris_LeVert'), ('./player_with_playoff/Jamison_Battle.csv', 'Jamison_Battle'), ('./player_with_playoff/Jevon_Carter.csv', 'Jevon_Carter'), ('./player_with_playoff/Jacob_Toppin.csv', 'Jacob_Toppin'), ('./player_with_playoff/Reece_Beekman.csv', 'Reece_Beekman'), ('./player_with_playoff/Mitchell_Robinson.csv', 'Mitchell_Robinson'), ('./player_with_playoff/Josh_Christopher.csv', 'Josh_Christopher'), ('./player_with_playoff/Miles_Norris.csv', 'Miles_Norris'), ('./player_with_playoff/Kevon_Looney.csv', 'Kevon_Looney'), ('./player_with_playoff/Trey_Alexander.csv', 'Trey_Alexander'), ('./player_with_playoff/Alex_Sarr.csv', 'Alex_Sarr'), ('./player_with_playoff/Herbert_Jones.csv', 'Herbert_Jones'), ('./player_with_playoff/Chet_Holmgren.csv', 'Chet_Holmgren'), ('./player_with_playoff/PJ_Dozier.csv', 'PJ_Dozier'), ('./player_with_playoff/Isaiah_Joe.csv', 'Isaiah_Joe'), ('./player_with_playoff/DeAndre_Jordan.csv', 'DeAndre_Jordan'), ('./player_with_playoff/Dean_Wade.csv', 'Dean_Wade'), ('./player_with_playoff/James_Harden.csv', 'James_Harden'), ('./player_with_playoff/Caleb_Martin.csv', 'Caleb_Martin'), ('./player_with_playoff/Stephon_Castle.csv', 'Stephon_Castle'), ('./player_with_playoff/Armel_Traoré.csv', 'Armel_Traoré'), ('./player_with_playoff/Toumani_Camara.csv', 'Toumani_Camara'), ('./player_with_playoff/Daishen_Nix.csv', 'Daishen_Nix'), ('./player_with_playoff/Damian_Lillard.csv', 'Damian_Lillard'), ('./player_with_playoff/Julius_Randle.csv', 'Julius_Randle'), ('./player_with_playoff/Jamaree_Bouyea.csv', 'Jamaree_Bouyea'), ('./player_with_playoff/Alondes_Williams.csv', 'Alondes_Williams'), ('./player_with_playoff/Donte_DiVincenzo.csv', 'Donte_DiVincenzo'), ('./player_with_playoff/Norman_Powell.csv', 'Norman_Powell'), ('./player_with_playoff/Josh_Minott.csv', 'Josh_Minott'), ('./player_with_playoff/Nick_Smith_Jr_.csv', 'Nick_Smith_Jr_'), ('./player_with_playoff/LeBron_James.csv', 'LeBron_James'), ('./player_with_playoff/Keldon_Johnson.csv', 'Keldon_Johnson'), ('./player_with_playoff/Ziaire_Williams.csv', 'Ziaire_Williams'), ('./player_with_playoff/Quentin_Grimes.csv', 'Quentin_Grimes'), ('./player_with_playoff/Nikola_Jokić.csv', 'Nikola_Jokić'), ('./player_with_playoff/Gary_Harris.csv', 'Gary_Harris'), ('./player_with_playoff/LaMelo_Ball.csv', 'LaMelo_Ball'), ('./player_with_playoff/Liam_Robbins.csv', 'Liam_Robbins'), ('./player_with_playoff/Trey_Murphy_III.csv', 'Trey_Murphy_III'), ('./player_with_playoff/Anthony_Black.csv', 'Anthony_Black'), ('./player_with_playoff/Nick_Richards.csv', 'Nick_Richards'), ('./player_with_playoff/Michael_Porter_Jr_.csv', 'Michael_Porter_Jr_'), ('./player_with_playoff/Bradley_Beal.csv', 'Bradley_Beal'), ('./player_with_playoff/Cory_Joseph.csv', 'Cory_Joseph'), ('./player_with_playoff/Victor_Wembanyama.csv', 'Victor_Wembanyama'), ('./player_with_playoff/Jalen_Brunson.csv', 'Jalen_Brunson'), ('./player_with_playoff/Isaiah_Wong.csv', 'Isaiah_Wong'), ('./player_with_playoff/Giannis_Antetokounmpo.csv', 'Giannis_Antetokounmpo'), ('./player_with_playoff/Donovan_Mitchell.csv', 'Donovan_Mitchell'), ('./player_with_playoff/Rayan_Rupert.csv', 'Rayan_Rupert'), ('./player_with_playoff/Keaton_Wallace.csv', 'Keaton_Wallace'), ('./player_with_playoff/Dereck_Lively_II.csv', 'Dereck_Lively_II'), ('./player_with_playoff/Tyus_Jones.csv', 'Tyus_Jones'), ('./player_with_playoff/Tyrese_Maxey.csv', 'Tyrese_Maxey'), ('./player_with_playoff/Brandon_Boston.csv', 'Brandon_Boston'), ('./player_with_playoff/Ariel_Hukporti.csv', 'Ariel_Hukporti'), ('./player_with_playoff/Kenrich_Williams.csv', 'Kenrich_Williams'), ('./player_with_playoff/Kyle_Lowry.csv', 'Kyle_Lowry'), ('./player_with_playoff/Ron_Harper_Jr_.csv', 'Ron_Harper_Jr_'), ('./player_with_playoff/Emanuel_Miller.csv', 'Emanuel_Miller'), ('./player_with_playoff/Jonas_Valančiūnas.csv', 'Jonas_Valančiūnas'), ('./player_with_playoff/Justin_Champagnie.csv', 'Justin_Champagnie'), ('./player_with_playoff/Kevin_Love.csv', 'Kevin_Love'), ('./player_with_playoff/Naji_Marshall.csv', 'Naji_Marshall'), ('./player_with_playoff/Jamal_Cain.csv', 'Jamal_Cain'), ('./player_with_playoff/Trendon_Watford.csv', 'Trendon_Watford'), ('./player_with_playoff/Vasilije_Micić.csv', 'Vasilije_Micić'), ('./player_with_playoff/RJ_Barrett.csv', 'RJ_Barrett'), ('./player_with_playoff/Lindy_Waters_III.csv', 'Lindy_Waters_III'), ('./player_with_playoff/Jamal_Murray.csv', 'Jamal_Murray'), ('./player_with_playoff/Nic_Claxton.csv', 'Nic_Claxton'), ('./player_with_playoff/Bol_Bol.csv', 'Bol_Bol'), ('./player_with_playoff/Alex_Caruso.csv', 'Alex_Caruso'), ('./player_with_playoff/Alperen_Sengun.csv', 'Alperen_Sengun'), ('./player_with_playoff/Matisse_Thybulle.csv', 'Matisse_Thybulle'), ('./player_with_playoff/Jeremy_Sochan.csv', 'Jeremy_Sochan'), ('./player_with_playoff/Jordan_McLaughlin.csv', 'Jordan_McLaughlin'), ('./player_with_playoff/Bones_Hyland.csv', 'Bones_Hyland'), ('./player_with_playoff/Ben_Sheppard.csv', 'Ben_Sheppard'), ('./player_with_playoff/Nikola_Jović.csv', 'Nikola_Jović'), ('./player_with_playoff/Xavier_Tillman.csv', 'Xavier_Tillman'), ('./player_with_playoff/Colby_Jones.csv', 'Colby_Jones'), ('./player_with_playoff/Jared_Butler.csv', 'Jared_Butler'), ('./player_with_playoff/Kai_Jones.csv', 'Kai_Jones'), ('./player_with_playoff/Zeke_Nnaji.csv', 'Zeke_Nnaji'), ('./player_with_playoff/P_J__Washington.csv', 'P_J__Washington'), ('./player_with_playoff/Isaiah_Stewart.csv', 'Isaiah_Stewart'), ('./player_with_playoff/Ausar_Thompson.csv', 'Ausar_Thompson'), ('./player_with_playoff/Svi_Mykhailiuk.csv', 'Svi_Mykhailiuk'), ('./player_with_playoff/Cole_Swider.csv', 'Cole_Swider'), ('./player_with_playoff/Eric_Gordon.csv', 'Eric_Gordon'), ('./player_with_playoff/Gabe_Vincent.csv', 'Gabe_Vincent'), ('./player_with_playoff/Marvin_Bagley_III.csv', 'Marvin_Bagley_III'), ('./player_with_playoff/Chris_Boucher.csv', 'Chris_Boucher'), ('./player_with_playoff/Johnny_Davis.csv', 'Johnny_Davis'), ('./player_with_playoff/Cam_Reddish.csv', 'Cam_Reddish'), ('./player_with_playoff/Tristan_da_Silva.csv', 'Tristan_da_Silva'), ('./player_with_playoff/Colin_Castleton.csv', 'Colin_Castleton'), ('./player_with_playoff/Ajay_Mitchell.csv', 'Ajay_Mitchell'), ('./player_with_playoff/Bobby_Portis.csv', 'Bobby_Portis'), ('./player_with_playoff/Zach_Collins.csv', 'Zach_Collins'), ('./player_with_playoff/Payton_Pritchard.csv', 'Payton_Pritchard'), ('./player_with_playoff/Jaylin_Williams.csv', 'Jaylin_Williams'), ('./player_with_playoff/Brice_Sensabaugh.csv', 'Brice_Sensabaugh'), ('./player_with_playoff/Gary_Trent_Jr_.csv', 'Gary_Trent_Jr_'), ('./player_with_playoff/Johnny_Juzang.csv', 'Johnny_Juzang'), ('./player_with_playoff/Bam_Adebayo.csv', 'Bam_Adebayo'), ('./player_with_playoff/Hunter_Tyson.csv', 'Hunter_Tyson'), ('./player_with_playoff/D_Angelo_Russell.csv', 'D_Angelo_Russell'), ('./player_with_playoff/Kevin_Porter_Jr_.csv', 'Kevin_Porter_Jr_'), ('./player_with_playoff/Jose_Alvarado.csv', 'Jose_Alvarado'), ('./player_with_playoff/Luguentz_Dort.csv', 'Luguentz_Dort'), ('./player_with_playoff/Devin_Vassell.csv', 'Devin_Vassell'), ('./player_with_playoff/Jalen_Duren.csv', 'Jalen_Duren'), ('./player_with_playoff/T_J__McConnell.csv', 'T_J__McConnell'), ('./player_with_playoff/Brook_Lopez.csv', 'Brook_Lopez'), ('./player_with_playoff/Al_Horford.csv', 'Al_Horford'), ('./player_with_playoff/Jrue_Holiday.csv', 'Jrue_Holiday'), ('./player_with_playoff/Derrick_Jones_Jr_.csv', 'Derrick_Jones_Jr_'), ('./player_with_playoff/Jonathan_Kuminga.csv', 'Jonathan_Kuminga'), ('./player_with_playoff/Quenton_Jackson.csv', 'Quenton_Jackson'), ('./player_with_playoff/Skal_Labissiere.csv', 'Skal_Labissiere'), ('./player_with_playoff/Dwight_Powell.csv', 'Dwight_Powell'), ('./player_with_playoff/Jalen_Williams.csv', 'Jalen_Williams'), ('./player_with_playoff/Bub_Carrington.csv', 'Bub_Carrington'), ('./player_with_playoff/Rob_Dillingham.csv', 'Rob_Dillingham'), ('./player_with_playoff/Jaden_Ivey.csv', 'Jaden_Ivey'), ('./player_with_playoff/Paul_George.csv', 'Paul_George'), ('./player_with_playoff/Neemias_Queta.csv', 'Neemias_Queta'), ('./player_with_playoff/Pelle_Larsson.csv', 'Pelle_Larsson'), ('./player_with_playoff/Aaron_Gordon.csv', 'Aaron_Gordon'), ('./player_with_playoff/Grayson_Allen.csv', 'Grayson_Allen'), ('./player_with_playoff/Spencer_Jones.csv', 'Spencer_Jones'), ('./player_with_playoff/Myles_Turner.csv', 'Myles_Turner'), ('./player_with_playoff/Alex_Len.csv', 'Alex_Len'), ('./player_with_playoff/AJ_Johnson.csv', 'AJ_Johnson'), ('./player_with_playoff/Brandin_Podziemski.csv', 'Brandin_Podziemski'), ('./player_with_playoff/Haywood_Highsmith.csv', 'Haywood_Highsmith'), ('./player_with_playoff/Dillon_Jones.csv', 'Dillon_Jones'), ('./player_with_playoff/Vince_Williams_Jr_.csv', 'Vince_Williams_Jr_'), ('./player_with_playoff/Killian_Hayes.csv', 'Killian_Hayes'), ('./player_with_playoff/Christian_Koloko.csv', 'Christian_Koloko'), ('./player_with_playoff/Zach_LaVine.csv', 'Zach_LaVine'), ('./player_with_playoff/E_J__Liddell.csv', 'E_J__Liddell'), ('./player_with_playoff/Jordan_Hawkins.csv', 'Jordan_Hawkins'), ('./player_with_playoff/Desmond_Bane.csv', 'Desmond_Bane'), ('./player_with_playoff/Brandon_Williams.csv', 'Brandon_Williams'), ('./player_with_playoff/Anthony_Edwards.csv', 'Anthony_Edwards'), ('./player_with_playoff/N_Faly_Dante.csv', 'N_Faly_Dante'), ('./player_with_playoff/Jeremiah_Robinson-Earl.csv', 'Jeremiah_Robinson-Earl'), ('./player_with_playoff/Trey_Lyles.csv', 'Trey_Lyles'), ('./player_with_playoff/Trentyn_Flowers.csv', 'Trentyn_Flowers'), ('./player_with_playoff/Rui_Hachimura.csv', 'Rui_Hachimura'), ('./player_with_playoff/Orlando_Robinson.csv', 'Orlando_Robinson'), ('./player_with_playoff/Moussa_Diabaté.csv', 'Moussa_Diabaté'), ('./player_with_playoff/Keshad_Johnson.csv', 'Keshad_Johnson'), ('./player_with_playoff/Spencer_Dinwiddie.csv', 'Spencer_Dinwiddie'), ('./player_with_playoff/A_J__Lawson.csv', 'A_J__Lawson'), ('./player_with_playoff/Kevin_Knox_II.csv', 'Kevin_Knox_II'), ('./player_with_playoff/Austin_Reaves.csv', 'Austin_Reaves'), ('./player_with_playoff/Dario_Šarić.csv', 'Dario_Šarić'), ('./player_with_playoff/Reed_Sheppard.csv', 'Reed_Sheppard'), ('./player_with_playoff/Dalen_Terry.csv', 'Dalen_Terry'), ('./player_with_playoff/Tyrese_Martin.csv', 'Tyrese_Martin'), ('./player_with_playoff/Talen_Horton-Tucker.csv', 'Talen_Horton-Tucker'), ('./player_with_playoff/Cole_Anthony.csv', 'Cole_Anthony'), ('./player_with_playoff/Tidjane_Salaün.csv', 'Tidjane_Salaün'), ('./player_with_playoff/JD_Davison.csv', 'JD_Davison'), ('./player_with_playoff/Keion_Brooks_Jr_.csv', 'Keion_Brooks_Jr_'), ('./player_with_playoff/Malcolm_Brogdon.csv', 'Malcolm_Brogdon'), ('./player_with_playoff/Elijah_Harkless.csv', 'Elijah_Harkless'), ('./player_with_playoff/Dru_Smith.csv', 'Dru_Smith'), ('./player_with_playoff/Jarrett_Allen.csv', 'Jarrett_Allen'), ('./player_with_playoff/Cam_Thomas.csv', 'Cam_Thomas'), ('./player_with_playoff/Monté_Morris.csv', 'Monté_Morris'), ('./player_with_playoff/Terrence_Shannon_Jr_.csv', 'Terrence_Shannon_Jr_'), ('./player_with_playoff/Marcus_Smart.csv', 'Marcus_Smart'), ('./player_with_playoff/Shai_Gilgeous-Alexander.csv', 'Shai_Gilgeous-Alexander'), ('./player_with_playoff/Onyeka_Okongwu.csv', 'Onyeka_Okongwu'), ('./player_with_playoff/Jaylon_Tyson.csv', 'Jaylon_Tyson'), ('./player_with_playoff/Wendell_Moore_Jr_.csv', 'Wendell_Moore_Jr_'), ('./player_with_playoff/Brandon_Ingram.csv', 'Brandon_Ingram'), ('./player_with_playoff/Davion_Mitchell.csv', 'Davion_Mitchell'), ('./player_with_playoff/Matas_Buzelis.csv', 'Matas_Buzelis'), ('./player_with_playoff/Bronny_James.csv', 'Bronny_James'), ('./player_with_playoff/Malachi_Flynn.csv', 'Malachi_Flynn'), ('./player_with_playoff/Donovan_Clingan.csv', 'Donovan_Clingan'), ('./player_with_playoff/Ty_Jerome.csv', 'Ty_Jerome'), ('./player_with_playoff/Isaiah_Stevens.csv', 'Isaiah_Stevens'), ('./player_with_playoff/Royce_O_Neale.csv', 'Royce_O_Neale'), ('./player_with_playoff/Cameron_Johnson.csv', 'Cameron_Johnson'), ('./player_with_playoff/Caleb_Houstan.csv', 'Caleb_Houstan'), ('./player_with_playoff/Cui_Yongxi.csv', 'Cui_Yongxi'), ('./player_with_playoff/Collin_Sexton.csv', 'Collin_Sexton'), ('./player_with_playoff/Kawhi_Leonard.csv', 'Kawhi_Leonard'), ('./player_with_playoff/Anton_Watson.csv', 'Anton_Watson'), ('./player_with_playoff/Riley_Minix.csv', 'Riley_Minix'), ('./player_with_playoff/Vít_Krejčí.csv', 'Vít_Krejčí'), ('./player_with_playoff/Peyton_Watson.csv', 'Peyton_Watson'), ('./player_with_playoff/Jaden_Springer.csv', 'Jaden_Springer'), ('./player_with_playoff/Pat_Spencer.csv', 'Pat_Spencer'), ('./player_with_playoff/Steven_Adams.csv', 'Steven_Adams'), ('./player_with_playoff/Nae_Qwan_Tomlin.csv', 'Nae_Qwan_Tomlin'), ('./player_with_playoff/Luka_Garza.csv', 'Luka_Garza'), ('./player_with_playoff/Mike_Conley.csv', 'Mike_Conley'), ('./player_with_playoff/Tre_Mann.csv', 'Tre_Mann'), ('./player_with_playoff/Ryan_Rollins.csv', 'Ryan_Rollins'), ('./player_with_playoff/OG_Anunoby.csv', 'OG_Anunoby'), ('./player_with_playoff/Kristaps_Porziņģis.csv', 'Kristaps_Porziņģis'), ('./player_with_playoff/Tre_Jones.csv', 'Tre_Jones'), ('./player_with_playoff/Ivica_Zubac.csv', 'Ivica_Zubac'), ('./player_with_playoff/De_Anthony_Melton.csv', 'De_Anthony_Melton'), ('./player_with_playoff/Ja_Morant.csv', 'Ja_Morant'), ('./player_with_playoff/Keyonte_George.csv', 'Keyonte_George'), ('./player_with_playoff/Josh_Richardson.csv', 'Josh_Richardson'), ('./player_with_playoff/Craig_Porter_Jr_.csv', 'Craig_Porter_Jr_'), ('./player_with_playoff/Kris_Murray.csv', 'Kris_Murray'), ('./player_with_playoff/Maxi_Kleber.csv', 'Maxi_Kleber'), ('./player_with_playoff/CJ_McCollum.csv', 'CJ_McCollum'), ('./player_with_playoff/Jaylen_Nowell.csv', 'Jaylen_Nowell'), ('./player_with_playoff/Jalen_McDaniels.csv', 'Jalen_McDaniels'), ('./player_with_playoff/Taj_Gibson.csv', 'Taj_Gibson'), ('./player_with_playoff/Leonard_Miller.csv', 'Leonard_Miller'), ('./player_with_playoff/Terance_Mann.csv', 'Terance_Mann'), ('./player_with_playoff/Johnny_Furphy.csv', 'Johnny_Furphy'), ('./player_with_playoff/Jimmy_Butler_III.csv', 'Jimmy_Butler_III'), ('./player_with_playoff/Moses_Brown.csv', 'Moses_Brown'), ('./player_with_playoff/Trevelin_Queen.csv', 'Trevelin_Queen'), ('./player_with_playoff/Isaac_Jones.csv', 'Isaac_Jones'), ('./player_with_playoff/Jackson_Rowe.csv', 'Jackson_Rowe'), ('./player_with_playoff/Tyrese_Haliburton.csv', 'Tyrese_Haliburton'), ('./player_with_playoff/Jett_Howard.csv', 'Jett_Howard'), ('./player_with_playoff/Cade_Cunningham.csv', 'Cade_Cunningham'), ('./player_with_playoff/Trae_Young.csv', 'Trae_Young'), ('./player_with_playoff/Ryan_Dunn.csv', 'Ryan_Dunn'), ('./player_with_playoff/Jaxson_Hayes.csv', 'Jaxson_Hayes'), ('./player_with_playoff/Moses_Moody.csv', 'Moses_Moody'), ('./player_with_playoff/Oscar_Tshiebwe.csv', 'Oscar_Tshiebwe'), ('./player_with_playoff/John_Konchar.csv', 'John_Konchar'), ('./player_with_playoff/Matt_Ryan.csv', 'Matt_Ryan'), ('./player_with_playoff/Duop_Reath.csv', 'Duop_Reath'), ('./player_with_playoff/Vlatko_Čančar.csv', 'Vlatko_Čančar'), ('./player_with_playoff/Precious_Achiuwa.csv', 'Precious_Achiuwa'), ('./player_with_playoff/Dariq_Whitehead.csv', 'Dariq_Whitehead'), ('./player_with_playoff/Doug_McDermott.csv', 'Doug_McDermott'), ('./player_with_playoff/Andrew_Wiggins.csv', 'Andrew_Wiggins'), ('./player_with_playoff/Luke_Kornet.csv', 'Luke_Kornet'), ('./player_with_playoff/Jalen_Pickett.csv', 'Jalen_Pickett'), ('./player_with_playoff/Dejounte_Murray.csv', 'Dejounte_Murray'), ('./player_with_playoff/Mason_Jones.csv', 'Mason_Jones'), ('./player_with_playoff/Nickeil_Alexander-Walker.csv', 'Nickeil_Alexander-Walker'), ('./player_with_playoff/Jared_McCain.csv', 'Jared_McCain'), ('./player_with_playoff/Kel_el_Ware.csv', 'Kel_el_Ware'), ('./player_with_playoff/Bogdan_Bogdanović.csv', 'Bogdan_Bogdanović'), ('./player_with_playoff/Kentavious_Caldwell-Pope.csv', 'Kentavious_Caldwell-Pope'), ('./player_with_playoff/Charles_Bassey.csv', 'Charles_Bassey'), ('./player_with_playoff/Robert_Williams_III.csv', 'Robert_Williams_III'), ('./player_with_playoff/Nikola_Vučević.csv', 'Nikola_Vučević'), ('./player_with_playoff/Stanley_Umude.csv', 'Stanley_Umude'), ('./player_with_playoff/Emoni_Bates.csv', 'Emoni_Bates'), ('./player_with_playoff/Kyrie_Irving.csv', 'Kyrie_Irving'), ('./player_with_playoff/Josh_Giddey.csv', 'Josh_Giddey'), ('./player_with_playoff/Kyle_Kuzma.csv', 'Kyle_Kuzma'), ('./player_with_playoff/Deandre_Ayton.csv', 'Deandre_Ayton'), ('./player_with_playoff/Ousmane_Dieng.csv', 'Ousmane_Dieng'), ('./player_with_playoff/Isaiah_Jackson.csv', 'Isaiah_Jackson'), ('./player_with_playoff/Anthony_Gill.csv', 'Anthony_Gill'), ('./player_with_playoff/Larry_Nance_Jr_.csv', 'Larry_Nance_Jr_'), ('./player_with_playoff/Day_Ron_Sharpe.csv', 'Day_Ron_Sharpe'), ('./player_with_playoff/David_Roddy.csv', 'David_Roddy'), ('./player_with_playoff/Dorian_Finney-Smith.csv', 'Dorian_Finney-Smith'), ('./player_with_playoff/Buddy_Hield.csv', 'Buddy_Hield'), ('./player_with_playoff/Jack_McVeigh.csv', 'Jack_McVeigh'), ('./player_with_playoff/Jabari_Walker.csv', 'Jabari_Walker'), ('./player_with_playoff/Jordan_Clarkson.csv', 'Jordan_Clarkson'), ('./player_with_playoff/Tim_Hardaway_Jr_.csv', 'Tim_Hardaway_Jr_'), ('./player_with_playoff/Cason_Wallace.csv', 'Cason_Wallace'), ('./player_with_playoff/Jusuf_Nurkić.csv', 'Jusuf_Nurkić'), ('./player_with_playoff/Paolo_Banchero.csv', 'Paolo_Banchero'), ('./player_with_playoff/Keon_Johnson.csv', 'Keon_Johnson'), ('./player_with_playoff/Jarred_Vanderbilt.csv', 'Jarred_Vanderbilt'), ('./player_with_playoff/Lonzo_Ball.csv', 'Lonzo_Ball'), ('./player_with_playoff/Tony_Bradley.csv', 'Tony_Bradley'), ('./player_with_playoff/Kyshawn_George.csv', 'Kyshawn_George'), ('./player_with_playoff/Jaden_McDaniels.csv', 'Jaden_McDaniels'), ('./player_with_playoff/Stephen_Curry.csv', 'Stephen_Curry'), ('./player_with_playoff/Jared_Rhoden.csv', 'Jared_Rhoden'), ('./player_with_playoff/Tristen_Newton.csv', 'Tristen_Newton'), ('./player_with_playoff/Jonathan_Isaac.csv', 'Jonathan_Isaac'), ('./player_with_playoff/Jake_LaRavia.csv', 'Jake_LaRavia'), ('./player_with_playoff/Bennedict_Mathurin.csv', 'Bennedict_Mathurin'), ('./player_with_playoff/Dillon_Brooks.csv', 'Dillon_Brooks'), ('./player_with_playoff/Scottie_Barnes.csv', 'Scottie_Barnes'), ('./player_with_playoff/Jaden_Hardy.csv', 'Jaden_Hardy'), ('./player_with_playoff/Mark_Williams.csv', 'Mark_Williams'), ('./player_with_playoff/Torrey_Craig.csv', 'Torrey_Craig'), ('./player_with_playoff/Fred_VanVleet.csv', 'Fred_VanVleet'), ('./player_with_playoff/Terence_Davis.csv', 'Terence_Davis'), ('./player_with_playoff/Tazé_Moore.csv', 'Tazé_Moore'), ('./player_with_playoff/Josh_Hart.csv', 'Josh_Hart'), ('./player_with_playoff/Miles_Bridges.csv', 'Miles_Bridges'), ('./player_with_playoff/Andre_Drummond.csv', 'Andre_Drummond'), ('./player_with_playoff/Russell_Westbrook.csv', 'Russell_Westbrook'), ('./player_with_playoff/Chris_Livingston.csv', 'Chris_Livingston'), ('./player_with_playoff/Garrison_Mathews.csv', 'Garrison_Mathews'), ('./player_with_playoff/Tolu_Smith.csv', 'Tolu_Smith'), ('./player_with_playoff/Ochai_Agbaji.csv', 'Ochai_Agbaji'), ('./player_with_playoff/DeMar_DeRozan.csv', 'DeMar_DeRozan'), ('./player_with_playoff/Kyle_Anderson.csv', 'Kyle_Anderson'), ('./player_with_playoff/Cody_Williams.csv', 'Cody_Williams'), ('./player_with_playoff/Kevin_Durant.csv', 'Kevin_Durant'), ('./player_with_playoff/Kelly_Oubre_Jr_.csv', 'Kelly_Oubre_Jr_'), ('./player_with_playoff/Bismack_Biyombo.csv', 'Bismack_Biyombo'), ('./player_with_playoff/Jalen_Green.csv', 'Jalen_Green'), ('./player_with_playoff/Olivier-Maxence_Prosper.csv', 'Olivier-Maxence_Prosper'), ('./player_with_playoff/Drew_Eubanks.csv', 'Drew_Eubanks'), ('./player_with_playoff/Bruce_Brown.csv', 'Bruce_Brown'), ('./player_with_playoff/Cody_Martin.csv', 'Cody_Martin'), ('./player_with_playoff/Mac_McClung.csv', 'Mac_McClung'), ('./player_with_playoff/Trayce_Jackson-Davis.csv', 'Trayce_Jackson-Davis'), ('./player_with_playoff/Jesse_Edwards.csv', 'Jesse_Edwards'), ('./player_with_playoff/Kevin_Huerter.csv', 'Kevin_Huerter'), ('./player_with_playoff/Jahmir_Young.csv', 'Jahmir_Young'), ('./player_with_playoff/Aaron_Holiday.csv', 'Aaron_Holiday'), ('./player_with_playoff/Mouhamed_Gueye.csv', 'Mouhamed_Gueye'), ('./player_with_playoff/Max_Strus.csv', 'Max_Strus'), ('./player_with_playoff/Tyler_Herro.csv', 'Tyler_Herro'), ('./player_with_playoff/Jazian_Gortman.csv', 'Jazian_Gortman'), ('./player_with_playoff/Tristan_Vukcevic.csv', 'Tristan_Vukcevic'), ('./player_with_playoff/Marcus_Sasser.csv', 'Marcus_Sasser'), ('./player_with_playoff/Bruno_Fernando.csv', 'Bruno_Fernando'), ('./player_with_playoff/Jaylen_Wells.csv', 'Jaylen_Wells'), ('./player_with_playoff/Adem_Bona.csv', 'Adem_Bona'), ('./player_with_playoff/Dalano_Banton.csv', 'Dalano_Banton')]\n"
     ]
    }
   ],
   "source": [
    "print(filepaths_and_players)"
   ]
  },
  {
   "cell_type": "code",
   "execution_count": 6,
   "metadata": {},
   "outputs": [],
   "source": [
    "for filepath, player in filepaths_and_players:\n",
    "    \n",
    "    df = transform_nba_game_log(filepath)\n",
    "    team = df[\"Team\"].unique()\n",
    "    team_code = team[len(team)-1]\n",
    "    output_dir = f\"./all_player_w_playoff_game_data/{team_code}\"\n",
    "    os.makedirs(output_dir, exist_ok=True)\n",
    "    df.to_csv(f\"{output_dir}/{player}.csv\", index=False)"
   ]
  },
  {
   "cell_type": "code",
   "execution_count": 42,
   "metadata": {},
   "outputs": [],
   "source": [
    "# df = transform_nba_game_log(\"./Jarrett_Allen.csv\")\n",
    "df = pd.read_csv(\"./all_player_game_data/CLE/Jarrett_Allen.csv\")\n"
   ]
  },
  {
   "cell_type": "code",
   "execution_count": 43,
   "metadata": {},
   "outputs": [
    {
     "name": "stdout",
     "output_type": "stream",
     "text": [
      "Index(['Date', 'Team', 'Unnamed: 2', 'Opp', 'Result', 'GS', 'MP', 'FG', 'FGA',\n",
      "       'FG%', '3P', '3PA', '3P%', '2P', '2PA', '2P%', 'eFG%', 'FT', 'FTA',\n",
      "       'FT%', 'ORB', 'DRB', 'TRB', 'AST', 'STL', 'BLK', 'TOV', 'PF', 'PTS',\n",
      "       '+/-'],\n",
      "      dtype='object')\n"
     ]
    }
   ],
   "source": [
    "print(df.columns)"
   ]
  },
  {
   "cell_type": "code",
   "execution_count": null,
   "metadata": {},
   "outputs": [],
   "source": [
    "df"
   ]
  },
  {
   "cell_type": "code",
   "execution_count": 17,
   "metadata": {},
   "outputs": [],
   "source": [
    "opps = []\n",
    "opps = df['Opp'].unique()"
   ]
  },
  {
   "cell_type": "code",
   "execution_count": 18,
   "metadata": {},
   "outputs": [
    {
     "name": "stdout",
     "output_type": "stream",
     "text": [
      "['IND' 'NYK' 'CHI' 'SAC' 'SAS' 'LAC' 'DET' 'POR' 'UTA' 'PHX' 'ORL' 'MEM'\n",
      " 'BKN' 'MIL' 'CHA' 'MIA' 'BOS' 'TOR' 'MIN' 'WAS' 'DAL' 'ATL' 'HOU' 'PHI'\n",
      " 'OKC' 'LAL' 'GSW' 'DEN' 'NOP']\n"
     ]
    }
   ],
   "source": [
    "print(opps)"
   ]
  },
  {
   "cell_type": "code",
   "execution_count": 11,
   "metadata": {},
   "outputs": [],
   "source": [
    "df2 = pd.read_csv(\"../backend/data/player_game_data/LAL/lebron_james.csv\")"
   ]
  },
  {
   "cell_type": "code",
   "execution_count": 12,
   "metadata": {},
   "outputs": [],
   "source": [
    "opps2 = []\n",
    "opps2 = df2[\"Opp\"].unique()"
   ]
  },
  {
   "cell_type": "code",
   "execution_count": 28,
   "metadata": {},
   "outputs": [
    {
     "name": "stdout",
     "output_type": "stream",
     "text": [
      "['MIN' 'PHO' 'SAC' 'CLE' 'TOR' 'DET' 'MEM' 'PHI' 'SAS' 'NOP' 'UTA' 'ORL'\n",
      " 'DEN' 'OKC' 'MIA' 'ATL' 'POR' 'GSW' 'HOU' 'DAL' 'BRK' 'LAC' 'WAS' 'BOS'\n",
      " 'CHO' 'NYK' 'IND' 'MIL' 'CHI']\n"
     ]
    },
    {
     "ename": "KeyError",
     "evalue": "'Player_Name'",
     "output_type": "error",
     "traceback": [
      "\u001b[0;31m---------------------------------------------------------------------------\u001b[0m",
      "\u001b[0;31mKeyError\u001b[0m                                  Traceback (most recent call last)",
      "File \u001b[0;32m/Library/Frameworks/Python.framework/Versions/3.12/lib/python3.12/site-packages/pandas/core/indexes/base.py:3805\u001b[0m, in \u001b[0;36mIndex.get_loc\u001b[0;34m(self, key)\u001b[0m\n\u001b[1;32m   3804\u001b[0m \u001b[38;5;28;01mtry\u001b[39;00m:\n\u001b[0;32m-> 3805\u001b[0m     \u001b[38;5;28;01mreturn\u001b[39;00m \u001b[38;5;28;43mself\u001b[39;49m\u001b[38;5;241;43m.\u001b[39;49m\u001b[43m_engine\u001b[49m\u001b[38;5;241;43m.\u001b[39;49m\u001b[43mget_loc\u001b[49m\u001b[43m(\u001b[49m\u001b[43mcasted_key\u001b[49m\u001b[43m)\u001b[49m\n\u001b[1;32m   3806\u001b[0m \u001b[38;5;28;01mexcept\u001b[39;00m \u001b[38;5;167;01mKeyError\u001b[39;00m \u001b[38;5;28;01mas\u001b[39;00m err:\n",
      "File \u001b[0;32mindex.pyx:167\u001b[0m, in \u001b[0;36mpandas._libs.index.IndexEngine.get_loc\u001b[0;34m()\u001b[0m\n",
      "File \u001b[0;32mindex.pyx:196\u001b[0m, in \u001b[0;36mpandas._libs.index.IndexEngine.get_loc\u001b[0;34m()\u001b[0m\n",
      "File \u001b[0;32mpandas/_libs/hashtable_class_helper.pxi:7081\u001b[0m, in \u001b[0;36mpandas._libs.hashtable.PyObjectHashTable.get_item\u001b[0;34m()\u001b[0m\n",
      "File \u001b[0;32mpandas/_libs/hashtable_class_helper.pxi:7089\u001b[0m, in \u001b[0;36mpandas._libs.hashtable.PyObjectHashTable.get_item\u001b[0;34m()\u001b[0m\n",
      "\u001b[0;31mKeyError\u001b[0m: 'Player_Name'",
      "\nThe above exception was the direct cause of the following exception:\n",
      "\u001b[0;31mKeyError\u001b[0m                                  Traceback (most recent call last)",
      "Cell \u001b[0;32mIn[28], line 3\u001b[0m\n\u001b[1;32m      1\u001b[0m \u001b[38;5;28mprint\u001b[39m(opps2)\n\u001b[1;32m      2\u001b[0m team \u001b[38;5;241m=\u001b[39m df2[\u001b[38;5;124m\"\u001b[39m\u001b[38;5;124mTeam\u001b[39m\u001b[38;5;124m\"\u001b[39m]\u001b[38;5;241m.\u001b[39munique()\n\u001b[0;32m----> 3\u001b[0m player \u001b[38;5;241m=\u001b[39m \u001b[43mdf2\u001b[49m\u001b[43m[\u001b[49m\u001b[38;5;124;43m\"\u001b[39;49m\u001b[38;5;124;43mPlayer_Name\u001b[39;49m\u001b[38;5;124;43m\"\u001b[39;49m\u001b[43m]\u001b[49m\n",
      "File \u001b[0;32m/Library/Frameworks/Python.framework/Versions/3.12/lib/python3.12/site-packages/pandas/core/frame.py:4090\u001b[0m, in \u001b[0;36mDataFrame.__getitem__\u001b[0;34m(self, key)\u001b[0m\n\u001b[1;32m   4088\u001b[0m \u001b[38;5;28;01mif\u001b[39;00m \u001b[38;5;28mself\u001b[39m\u001b[38;5;241m.\u001b[39mcolumns\u001b[38;5;241m.\u001b[39mnlevels \u001b[38;5;241m>\u001b[39m \u001b[38;5;241m1\u001b[39m:\n\u001b[1;32m   4089\u001b[0m     \u001b[38;5;28;01mreturn\u001b[39;00m \u001b[38;5;28mself\u001b[39m\u001b[38;5;241m.\u001b[39m_getitem_multilevel(key)\n\u001b[0;32m-> 4090\u001b[0m indexer \u001b[38;5;241m=\u001b[39m \u001b[38;5;28;43mself\u001b[39;49m\u001b[38;5;241;43m.\u001b[39;49m\u001b[43mcolumns\u001b[49m\u001b[38;5;241;43m.\u001b[39;49m\u001b[43mget_loc\u001b[49m\u001b[43m(\u001b[49m\u001b[43mkey\u001b[49m\u001b[43m)\u001b[49m\n\u001b[1;32m   4091\u001b[0m \u001b[38;5;28;01mif\u001b[39;00m is_integer(indexer):\n\u001b[1;32m   4092\u001b[0m     indexer \u001b[38;5;241m=\u001b[39m [indexer]\n",
      "File \u001b[0;32m/Library/Frameworks/Python.framework/Versions/3.12/lib/python3.12/site-packages/pandas/core/indexes/base.py:3812\u001b[0m, in \u001b[0;36mIndex.get_loc\u001b[0;34m(self, key)\u001b[0m\n\u001b[1;32m   3807\u001b[0m     \u001b[38;5;28;01mif\u001b[39;00m \u001b[38;5;28misinstance\u001b[39m(casted_key, \u001b[38;5;28mslice\u001b[39m) \u001b[38;5;129;01mor\u001b[39;00m (\n\u001b[1;32m   3808\u001b[0m         \u001b[38;5;28misinstance\u001b[39m(casted_key, abc\u001b[38;5;241m.\u001b[39mIterable)\n\u001b[1;32m   3809\u001b[0m         \u001b[38;5;129;01mand\u001b[39;00m \u001b[38;5;28many\u001b[39m(\u001b[38;5;28misinstance\u001b[39m(x, \u001b[38;5;28mslice\u001b[39m) \u001b[38;5;28;01mfor\u001b[39;00m x \u001b[38;5;129;01min\u001b[39;00m casted_key)\n\u001b[1;32m   3810\u001b[0m     ):\n\u001b[1;32m   3811\u001b[0m         \u001b[38;5;28;01mraise\u001b[39;00m InvalidIndexError(key)\n\u001b[0;32m-> 3812\u001b[0m     \u001b[38;5;28;01mraise\u001b[39;00m \u001b[38;5;167;01mKeyError\u001b[39;00m(key) \u001b[38;5;28;01mfrom\u001b[39;00m \u001b[38;5;21;01merr\u001b[39;00m\n\u001b[1;32m   3813\u001b[0m \u001b[38;5;28;01mexcept\u001b[39;00m \u001b[38;5;167;01mTypeError\u001b[39;00m:\n\u001b[1;32m   3814\u001b[0m     \u001b[38;5;66;03m# If we have a listlike key, _check_indexing_error will raise\u001b[39;00m\n\u001b[1;32m   3815\u001b[0m     \u001b[38;5;66;03m#  InvalidIndexError. Otherwise we fall through and re-raise\u001b[39;00m\n\u001b[1;32m   3816\u001b[0m     \u001b[38;5;66;03m#  the TypeError.\u001b[39;00m\n\u001b[1;32m   3817\u001b[0m     \u001b[38;5;28mself\u001b[39m\u001b[38;5;241m.\u001b[39m_check_indexing_error(key)\n",
      "\u001b[0;31mKeyError\u001b[0m: 'Player_Name'"
     ]
    }
   ],
   "source": [
    "print(opps2)\n",
    "team = df2[\"Team\"].unique()\n",
    "player = df2[\"Player_Name\"]"
   ]
  },
  {
   "cell_type": "code",
   "execution_count": 27,
   "metadata": {},
   "outputs": [
    {
     "name": "stdout",
     "output_type": "stream",
     "text": [
      "LAL\n"
     ]
    }
   ],
   "source": [
    "print(team[0])"
   ]
  },
  {
   "cell_type": "code",
   "execution_count": null,
   "metadata": {},
   "outputs": [],
   "source": [
    "df.to_csv(\"./all_player_game_data/{team[0]}/{player}.csv\")"
   ]
  }
 ],
 "metadata": {
  "kernelspec": {
   "display_name": "Python 3",
   "language": "python",
   "name": "python3"
  },
  "language_info": {
   "codemirror_mode": {
    "name": "ipython",
    "version": 3
   },
   "file_extension": ".py",
   "mimetype": "text/x-python",
   "name": "python",
   "nbconvert_exporter": "python",
   "pygments_lexer": "ipython3",
   "version": "3.12.2"
  }
 },
 "nbformat": 4,
 "nbformat_minor": 2
}
