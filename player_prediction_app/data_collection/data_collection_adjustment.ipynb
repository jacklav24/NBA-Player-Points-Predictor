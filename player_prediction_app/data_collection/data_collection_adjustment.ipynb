{
 "cells": [
  {
   "cell_type": "code",
   "execution_count": 50,
   "metadata": {},
   "outputs": [],
   "source": [
    "import pandas as pd\n",
    "import os"
   ]
  },
  {
   "cell_type": "code",
   "execution_count": 51,
   "metadata": {},
   "outputs": [],
   "source": [
    "team_code_map = {\n",
    "    'ATL': 'ATL',\n",
    "    'BKN': 'BRK',\n",
    "    'BOS': 'BOS',\n",
    "    'CHA': 'CHO',\n",
    "    'CHI': 'CHI',\n",
    "    'DAL': 'DAL',\n",
    "    'DEN': 'DEN',\n",
    "    'DET': 'DET',\n",
    "    'GSW': 'GSW',\n",
    "    'HOU': 'HOU',\n",
    "    'IND': 'IND',\n",
    "    'LAC': 'LAC',\n",
    "    'LAL': 'LAL',\n",
    "    'MEM': 'MEM',\n",
    "    'MIA': 'MIA',\n",
    "    'MIL': 'MIL',\n",
    "    'MIN': 'MIN',\n",
    "    'NOP': 'NOP',\n",
    "    'NYK': 'NYK',\n",
    "    'OKC': 'OKC',\n",
    "    'ORL': 'ORL',\n",
    "    'PHI': 'PHI',\n",
    "    'PHX': 'PHO',\n",
    "    'POR': 'POR',\n",
    "    'SAC': 'SAC',\n",
    "    'SAS': 'SAS',\n",
    "    'TOR': 'TOR',\n",
    "    'UTA': 'UTA',\n",
    "    'WAS': 'WAS'\n",
    "}"
   ]
  },
  {
   "cell_type": "code",
   "execution_count": 52,
   "metadata": {},
   "outputs": [],
   "source": [
    "def transform_nba_game_log(path_to_csv):\n",
    "    df = pd.read_csv(path_to_csv)\n",
    "\n",
    "    # Parse date\n",
    "    df['Date'] = pd.to_datetime(df['GAME_DATE']).dt.strftime('%Y-%m-%d')\n",
    "\n",
    "    # Extract Team and Opponent\n",
    "    def parse_matchup(matchup):\n",
    "        team, at_vs, opp = matchup.split()\n",
    "        return (\n",
    "            team_code_map.get(team, team),\n",
    "            '@' if at_vs == '@' else '',\n",
    "            team_code_map.get(opp, opp)\n",
    "        )\n",
    "\n",
    "    parsed = df['MATCHUP'].apply(parse_matchup)\n",
    "    df['Team'] = parsed.apply(lambda x: x[0])\n",
    "    df[''] = parsed.apply(lambda x: x[1])\n",
    "    df['Opp'] = parsed.apply(lambda x: x[2])\n",
    "\n",
    "    # Result column\n",
    "    df['Result'] = df['WL'] + ' ' + df['PTS'].astype(str) + '-' + (df.groupby('Player_Name')['PTS'].shift(-1).fillna(df['PTS'])).astype(str)\n",
    "\n",
    "    # Games Started: unknown, use '*'\n",
    "    df['GS'] = '*'\n",
    "\n",
    "    # Minutes\n",
    "    df['MP'] = df['MIN']\n",
    "\n",
    "    # Shooting stats\n",
    "    df['FG'] = df['FGM']\n",
    "    df['FG%'] = df['FG_PCT']\n",
    "    df['3P'] = df['FG3M']\n",
    "    df['3PA'] = df['FG3A']\n",
    "    df['3P%'] = df['FG3_PCT']\n",
    "\n",
    "    df['2P'] = df['FGM'] - df['FG3M']\n",
    "    df['2PA'] = df['FGA'] - df['FG3A']\n",
    "    df['2P%'] = df['2P'] / df['2PA']\n",
    "    df['eFG%'] = (df['FGM'] + 0.5 * df['FG3M']) / df['FGA']\n",
    "\n",
    "    df['FT'] = df['FTM']\n",
    "    df['FTA'] = df['FTA']\n",
    "    df['FT%'] = df['FT_PCT']\n",
    "\n",
    "    df['ORB'] = df['OREB']\n",
    "    df['DRB'] = df['DREB']\n",
    "    df['TRB'] = df['REB']\n",
    "\n",
    "    df['AST'] = df['AST']\n",
    "    df['STL'] = df['STL']\n",
    "    df['BLK'] = df['BLK']\n",
    "    df['TOV'] = df['TOV']\n",
    "    df['PF'] = df['PF']\n",
    "    df['PTS'] = df['PTS']\n",
    "\n",
    "    df['+/-'] = df['PLUS_MINUS']\n",
    "    \n",
    "    \n",
    "    num_cols = ['FG', 'FGA', 'FG%', '3P', '3PA', '3P%', '2P', '2PA', '2P%', 'eFG%',\n",
    "        'FT', 'FTA', 'FT%', 'ORB', 'DRB', 'TRB',\n",
    "        'AST', 'STL', 'BLK', 'TOV', 'PF', 'PTS', '+/-'\n",
    "    ]\n",
    "    for col in num_cols:\n",
    "        df[col] = pd.to_numeric(df[col], errors='coerce').fillna(0)\n",
    "\n",
    "    # Select final column order\n",
    "    output_cols = [\n",
    "        'Date', 'Team', '', 'Opp', 'Result', 'GS', 'MP',\n",
    "        'FG', 'FGA', 'FG%', '3P', '3PA', '3P%', '2P', '2PA', '2P%', 'eFG%',\n",
    "        'FT', 'FTA', 'FT%', 'ORB', 'DRB', 'TRB',\n",
    "        'AST', 'STL', 'BLK', 'TOV', 'PF', 'PTS', '+/-'\n",
    "    ]\n",
    "    df.sort_values(by='Date', inplace=True)\n",
    "    df_out = df[output_cols]\n",
    "\n",
    "    return df_out\n"
   ]
  },
  {
   "cell_type": "code",
   "execution_count": 53,
   "metadata": {},
   "outputs": [],
   "source": [
    "filepaths_and_players = [(os.path.join('./data', f), f.replace('.csv', '')) \n",
    "                         for f in os.listdir('./data') if f.endswith('.csv')]"
   ]
  },
  {
   "cell_type": "code",
   "execution_count": 54,
   "metadata": {},
   "outputs": [
    {
     "name": "stdout",
     "output_type": "stream",
     "text": [
      "[('./data/Jalen_Suggs.csv', 'Jalen_Suggs'), ('./data/Sam_Merrill.csv', 'Sam_Merrill'), ('./data/Tobias_Harris.csv', 'Tobias_Harris'), ('./data/Markieff_Morris.csv', 'Markieff_Morris'), ('./data/Pete_Nance.csv', 'Pete_Nance'), ('./data/Jaylen_Clark.csv', 'Jaylen_Clark'), ('./data/Collin_Gillespie.csv', 'Collin_Gillespie'), ('./data/De_Aaron_Fox.csv', 'De_Aaron_Fox'), ('./data/PJ_Hall.csv', 'PJ_Hall'), ('./data/Kyle_Filipowski.csv', 'Kyle_Filipowski'), ('./data/Malevy_Leons.csv', 'Malevy_Leons'), ('./data/Ayo_Dosunmu.csv', 'Ayo_Dosunmu'), ('./data/Kobe_Brown.csv', 'Kobe_Brown'), ('./data/James_Johnson.csv', 'James_Johnson'), ('./data/Jeff_Dowtin_Jr_.csv', 'Jeff_Dowtin_Jr_'), ('./data/Oso_Ighodaro.csv', 'Oso_Ighodaro'), ('./data/Dominick_Barlow.csv', 'Dominick_Barlow'), ('./data/Julian_Champagnie.csv', 'Julian_Champagnie'), ('./data/Karlo_Matković.csv', 'Karlo_Matković'), ('./data/Yuki_Kawamura.csv', 'Yuki_Kawamura'), ('./data/Devin_Carter.csv', 'Devin_Carter'), ('./data/Shaedon_Sharpe.csv', 'Shaedon_Sharpe'), ('./data/Julian_Phillips.csv', 'Julian_Phillips'), ('./data/Patrick_Williams.csv', 'Patrick_Williams'), ('./data/Taylor_Hendricks.csv', 'Taylor_Hendricks'), ('./data/Mason_Plumlee.csv', 'Mason_Plumlee'), ('./data/Goga_Bitadze.csv', 'Goga_Bitadze'), ('./data/Malik_Beasley.csv', 'Malik_Beasley'), ('./data/Lamar_Stevens.csv', 'Lamar_Stevens'), ('./data/Cameron_Payne.csv', 'Cameron_Payne'), ('./data/Naz_Reid.csv', 'Naz_Reid'), ('./data/Lonnie_Walker_IV.csv', 'Lonnie_Walker_IV'), ('./data/Brandon_Miller.csv', 'Brandon_Miller'), ('./data/Pacome_Dadiet.csv', 'Pacome_Dadiet'), ('./data/Blake_Wesley.csv', 'Blake_Wesley'), ('./data/RayJ_Dennis.csv', 'RayJ_Dennis'), ('./data/Reggie_Jackson.csv', 'Reggie_Jackson'), ('./data/Mikal_Bridges.csv', 'Mikal_Bridges'), ('./data/Jalen_Bridges.csv', 'Jalen_Bridges'), ('./data/Isaac_Okoro.csv', 'Isaac_Okoro'), ('./data/Jalen_Hood-Schifino.csv', 'Jalen_Hood-Schifino'), ('./data/P_J__Tucker.csv', 'P_J__Tucker'), ('./data/Quinten_Post.csv', 'Quinten_Post'), ('./data/AJ_Green.csv', 'AJ_Green'), ('./data/Luka_Dončić.csv', 'Luka_Dončić'), ('./data/Jaylen_Brown.csv', 'Jaylen_Brown'), ('./data/D_J__Carton.csv', 'D_J__Carton'), ('./data/Jamal_Shead.csv', 'Jamal_Shead'), ('./data/Evan_Mobley.csv', 'Evan_Mobley'), ('./data/Gui_Santos.csv', 'Gui_Santos'), ('./data/Daniel_Theis.csv', 'Daniel_Theis'), ('./data/Taurean_Prince.csv', 'Taurean_Prince'), ('./data/Santi_Aldama.csv', 'Santi_Aldama'), ('./data/Jabari_Smith_Jr_.csv', 'Jabari_Smith_Jr_'), ('./data/Miles_McBride.csv', 'Miles_McBride'), ('./data/Coby_White.csv', 'Coby_White'), ('./data/Isaiah_Collier.csv', 'Isaiah_Collier'), ('./data/Bobi_Klintman.csv', 'Bobi_Klintman'), ('./data/Jaime_Jaquez_Jr_.csv', 'Jaime_Jaquez_Jr_'), ('./data/Dennis_Schröder.csv', 'Dennis_Schröder'), ('./data/Pat_Connaughton.csv', 'Pat_Connaughton'), ('./data/Anthony_Davis.csv', 'Anthony_Davis'), ('./data/Drew_Peterson.csv', 'Drew_Peterson'), ('./data/Baylor_Scheierman.csv', 'Baylor_Scheierman'), ('./data/Elfrid_Payton.csv', 'Elfrid_Payton'), ('./data/Rudy_Gobert.csv', 'Rudy_Gobert'), ('./data/Amen_Thompson.csv', 'Amen_Thompson'), ('./data/Julian_Strawther.csv', 'Julian_Strawther'), ('./data/Brandon_Clarke.csv', 'Brandon_Clarke'), ('./data/Dyson_Daniels.csv', 'Dyson_Daniels'), ('./data/Scotty_Pippen_Jr_.csv', 'Scotty_Pippen_Jr_'), ('./data/Daniss_Jenkins.csv', 'Daniss_Jenkins'), ('./data/Richaun_Holmes.csv', 'Richaun_Holmes'), ('./data/Adam_Flagler.csv', 'Adam_Flagler'), ('./data/Zyon_Pullin.csv', 'Zyon_Pullin'), ('./data/Micah_Potter.csv', 'Micah_Potter'), ('./data/Darius_Garland.csv', 'Darius_Garland'), ('./data/Guerschon_Yabusele.csv', 'Guerschon_Yabusele'), ('./data/Karl-Anthony_Towns.csv', 'Karl-Anthony_Towns'), ('./data/Joel_Embiid.csv', 'Joel_Embiid'), ('./data/Danté_Exum.csv', 'Danté_Exum'), ('./data/Trey_Jemison_III.csv', 'Trey_Jemison_III'), ('./data/Nate_Williams.csv', 'Nate_Williams'), ('./data/Pascal_Siakam.csv', 'Pascal_Siakam'), ('./data/Isaiah_Crawford.csv', 'Isaiah_Crawford'), ('./data/Jalen_Johnson.csv', 'Jalen_Johnson'), ('./data/Harrison_Ingram.csv', 'Harrison_Ingram'), ('./data/Max_Christie.csv', 'Max_Christie'), ('./data/Georges_Niang.csv', 'Georges_Niang'), ('./data/Chris_Paul.csv', 'Chris_Paul'), ('./data/Branden_Carlson.csv', 'Branden_Carlson'), ('./data/Duncan_Robinson.csv', 'Duncan_Robinson'), ('./data/MarJon_Beauchamp.csv', 'MarJon_Beauchamp'), ('./data/Ja_Kobe_Walter.csv', 'Ja_Kobe_Walter'), ('./data/Jaren_Jackson_Jr_.csv', 'Jaren_Jackson_Jr_'), ('./data/Obi_Toppin.csv', 'Obi_Toppin'), ('./data/Luke_Kennard.csv', 'Luke_Kennard'), ('./data/Gary_Payton_II.csv', 'Gary_Payton_II'), ('./data/Josh_Green.csv', 'Josh_Green'), ('./data/DaQuan_Jeffries.csv', 'DaQuan_Jeffries'), ('./data/Khris_Middleton.csv', 'Khris_Middleton'), ('./data/Deni_Avdija.csv', 'Deni_Avdija'), ('./data/Jordan_Miller.csv', 'Jordan_Miller'), ('./data/Patrick_Baldwin_Jr_.csv', 'Patrick_Baldwin_Jr_'), ('./data/Enrique_Freeman.csv', 'Enrique_Freeman'), ('./data/De_Andre_Hunter.csv', 'De_Andre_Hunter'), ('./data/Jayson_Tatum.csv', 'Jayson_Tatum'), ('./data/Aaron_Wiggins.csv', 'Aaron_Wiggins'), ('./data/Yuri_Collins.csv', 'Yuri_Collins'), ('./data/Jae_Sean_Tate.csv', 'Jae_Sean_Tate'), ('./data/Harrison_Barnes.csv', 'Harrison_Barnes'), ('./data/Zaccharie_Risacher.csv', 'Zaccharie_Risacher'), ('./data/Jordan_Walsh.csv', 'Jordan_Walsh'), ('./data/Justin_Minaya.csv', 'Justin_Minaya'), ('./data/Walker_Kessler.csv', 'Walker_Kessler'), ('./data/Seth_Curry.csv', 'Seth_Curry'), ('./data/Dalton_Knecht.csv', 'Dalton_Knecht'), ('./data/Ricky_Council_IV.csv', 'Ricky_Council_IV'), ('./data/Terry_Taylor.csv', 'Terry_Taylor'), ('./data/David_Duke_Jr_.csv', 'David_Duke_Jr_'), ('./data/Maxwell_Lewis.csv', 'Maxwell_Lewis'), ('./data/Simone_Fontecchio.csv', 'Simone_Fontecchio'), ('./data/Mo_Bamba.csv', 'Mo_Bamba'), ('./data/Domantas_Sabonis.csv', 'Domantas_Sabonis'), ('./data/Immanuel_Quickley.csv', 'Immanuel_Quickley'), ('./data/Damion_Baugh.csv', 'Damion_Baugh'), ('./data/Andre_Jackson_Jr_.csv', 'Andre_Jackson_Jr_'), ('./data/Malaki_Branham.csv', 'Malaki_Branham'), ('./data/Kris_Dunn.csv', 'Kris_Dunn'), ('./data/Anfernee_Simons.csv', 'Anfernee_Simons'), ('./data/Alex_Ducas.csv', 'Alex_Ducas'), ('./data/Jahlil_Okafor.csv', 'Jahlil_Okafor'), ('./data/Malik_Monk.csv', 'Malik_Monk'), ('./data/Kelly_Olynyk.csv', 'Kelly_Olynyk'), ('./data/Paul_Reed.csv', 'Paul_Reed'), ('./data/Damion_Lee.csv', 'Damion_Lee'), ('./data/Tosan_Evbuomwan.csv', 'Tosan_Evbuomwan'), ('./data/Tristan_Thompson.csv', 'Tristan_Thompson'), ('./data/Jalen_Smith.csv', 'Jalen_Smith'), ('./data/KJ_Simpson.csv', 'KJ_Simpson'), ('./data/Marcus_Garrett.csv', 'Marcus_Garrett'), ('./data/Chuma_Okeke.csv', 'Chuma_Okeke'), ('./data/Draymond_Green.csv', 'Draymond_Green'), ('./data/Franz_Wagner.csv', 'Franz_Wagner'), ('./data/Bryce_McGowens.csv', 'Bryce_McGowens'), ('./data/Garrett_Temple.csv', 'Garrett_Temple'), ('./data/Alex_Reese.csv', 'Alex_Reese'), ('./data/KJ_Martin.csv', 'KJ_Martin'), ('./data/Zion_Williamson.csv', 'Zion_Williamson'), ('./data/Nicolas_Batum.csv', 'Nicolas_Batum'), ('./data/Jarace_Walker.csv', 'Jarace_Walker'), ('./data/Scoot_Henderson.csv', 'Scoot_Henderson'), ('./data/Clint_Capela.csv', 'Clint_Capela'), ('./data/Corey_Kispert.csv', 'Corey_Kispert'), ('./data/Patty_Mills.csv', 'Patty_Mills'), ('./data/Grant_Williams.csv', 'Grant_Williams'), ('./data/Andrew_Nembhard.csv', 'Andrew_Nembhard'), ('./data/Cam_Spencer.csv', 'Cam_Spencer'), ('./data/Ben_Simmons.csv', 'Ben_Simmons'), ('./data/Joe_Ingles.csv', 'Joe_Ingles'), ('./data/Luke_Travers.csv', 'Luke_Travers'), ('./data/Yves_Missi.csv', 'Yves_Missi'), ('./data/Cam_Whitmore.csv', 'Cam_Whitmore'), ('./data/Daeqwon_Plowden.csv', 'Daeqwon_Plowden'), ('./data/Jalen_Wilson.csv', 'Jalen_Wilson'), ('./data/Devin_Booker.csv', 'Devin_Booker'), ('./data/Klay_Thompson.csv', 'Klay_Thompson'), ('./data/Isaiah_Mobley.csv', 'Isaiah_Mobley'), ('./data/Keegan_Murray.csv', 'Keegan_Murray'), ('./data/Oshae_Brissett.csv', 'Oshae_Brissett'), ('./data/Shake_Milton.csv', 'Shake_Milton'), ('./data/Jordan_Goodwin.csv', 'Jordan_Goodwin'), ('./data/Markelle_Fultz.csv', 'Markelle_Fultz'), ('./data/Jae_Crowder.csv', 'Jae_Crowder'), ('./data/Delon_Wright.csv', 'Delon_Wright'), ('./data/John_Collins.csv', 'John_Collins'), ('./data/Terry_Rozier.csv', 'Terry_Rozier'), ('./data/Chris_Duarte.csv', 'Chris_Duarte'), ('./data/Wendell_Carter_Jr_.csv', 'Wendell_Carter_Jr_'), ('./data/Quincy_Olivari.csv', 'Quincy_Olivari'), ('./data/Adama_Sanogo.csv', 'Adama_Sanogo'), ('./data/Isaiah_Hartenstein.csv', 'Isaiah_Hartenstein'), ('./data/Tari_Eason.csv', 'Tari_Eason'), ('./data/Daniel_Gafford.csv', 'Daniel_Gafford'), ('./data/Javonte_Green.csv', 'Javonte_Green'), ('./data/Tyson_Etienne.csv', 'Tyson_Etienne'), ('./data/Braxton_Key.csv', 'Braxton_Key'), ('./data/Amir_Coffey.csv', 'Amir_Coffey'), ('./data/Gradey_Dick.csv', 'Gradey_Dick'), ('./data/Landry_Shamet.csv', 'Landry_Shamet'), ('./data/Sandro_Mamukelashvili.csv', 'Sandro_Mamukelashvili'), ('./data/Jakob_Poeltl.csv', 'Jakob_Poeltl'), ('./data/Christian_Braun.csv', 'Christian_Braun'), ('./data/Derrick_White.csv', 'Derrick_White'), ('./data/GG_Jackson.csv', 'GG_Jackson'), ('./data/Ronald_Holland_II.csv', 'Ronald_Holland_II'), ('./data/Jeff_Green.csv', 'Jeff_Green'), ('./data/Sidy_Cissoko.csv', 'Sidy_Cissoko'), ('./data/Josh_Okogie.csv', 'Josh_Okogie'), ('./data/Antonio_Reeves.csv', 'Antonio_Reeves'), ('./data/Lester_Quinones.csv', 'Lester_Quinones'), ('./data/Kevin_McCullar_Jr_.csv', 'Kevin_McCullar_Jr_'), ('./data/Thomas_Bryant.csv', 'Thomas_Bryant'), ('./data/Moritz_Wagner.csv', 'Moritz_Wagner'), ('./data/Jock_Landale.csv', 'Jock_Landale'), ('./data/James_Wiseman.csv', 'James_Wiseman'), ('./data/Tyler_Smith.csv', 'Tyler_Smith'), ('./data/Bilal_Coulibaly.csv', 'Bilal_Coulibaly'), ('./data/Jay_Huff.csv', 'Jay_Huff'), ('./data/Cam_Christie.csv', 'Cam_Christie'), ('./data/Tyler_Kolek.csv', 'Tyler_Kolek'), ('./data/Jordan_Poole.csv', 'Jordan_Poole'), ('./data/Jonathan_Mogbo.csv', 'Jonathan_Mogbo'), ('./data/Keon_Ellis.csv', 'Keon_Ellis'), ('./data/Lauri_Markkanen.csv', 'Lauri_Markkanen'), ('./data/Zach_Edey.csv', 'Zach_Edey'), ('./data/Jaylen_Martin.csv', 'Jaylen_Martin'), ('./data/Ulrich_Chomche.csv', 'Ulrich_Chomche'), ('./data/TyTy_Washington_Jr_.csv', 'TyTy_Washington_Jr_'), ('./data/Jericho_Sims.csv', 'Jericho_Sims'), ('./data/Jerami_Grant.csv', 'Jerami_Grant'), ('./data/Noah_Clowney.csv', 'Noah_Clowney'), ('./data/JT_Thor.csv', 'JT_Thor'), ('./data/Sam_Hauser.csv', 'Sam_Hauser'), ('./data/Aaron_Nesmith.csv', 'Aaron_Nesmith'), ('./data/Caris_LeVert.csv', 'Caris_LeVert'), ('./data/Jamison_Battle.csv', 'Jamison_Battle'), ('./data/Jevon_Carter.csv', 'Jevon_Carter'), ('./data/Jacob_Toppin.csv', 'Jacob_Toppin'), ('./data/Reece_Beekman.csv', 'Reece_Beekman'), ('./data/Mitchell_Robinson.csv', 'Mitchell_Robinson'), ('./data/Josh_Christopher.csv', 'Josh_Christopher'), ('./data/Miles_Norris.csv', 'Miles_Norris'), ('./data/Kevon_Looney.csv', 'Kevon_Looney'), ('./data/Trey_Alexander.csv', 'Trey_Alexander'), ('./data/Alex_Sarr.csv', 'Alex_Sarr'), ('./data/Herbert_Jones.csv', 'Herbert_Jones'), ('./data/Chet_Holmgren.csv', 'Chet_Holmgren'), ('./data/PJ_Dozier.csv', 'PJ_Dozier'), ('./data/Isaiah_Joe.csv', 'Isaiah_Joe'), ('./data/DeAndre_Jordan.csv', 'DeAndre_Jordan'), ('./data/Dean_Wade.csv', 'Dean_Wade'), ('./data/James_Harden.csv', 'James_Harden'), ('./data/Caleb_Martin.csv', 'Caleb_Martin'), ('./data/Stephon_Castle.csv', 'Stephon_Castle'), ('./data/Armel_Traoré.csv', 'Armel_Traoré'), ('./data/Toumani_Camara.csv', 'Toumani_Camara'), ('./data/Daishen_Nix.csv', 'Daishen_Nix'), ('./data/Damian_Lillard.csv', 'Damian_Lillard'), ('./data/Julius_Randle.csv', 'Julius_Randle'), ('./data/Jamaree_Bouyea.csv', 'Jamaree_Bouyea'), ('./data/Alondes_Williams.csv', 'Alondes_Williams'), ('./data/Donte_DiVincenzo.csv', 'Donte_DiVincenzo'), ('./data/Norman_Powell.csv', 'Norman_Powell'), ('./data/Josh_Minott.csv', 'Josh_Minott'), ('./data/Nick_Smith_Jr_.csv', 'Nick_Smith_Jr_'), ('./data/LeBron_James.csv', 'LeBron_James'), ('./data/Keldon_Johnson.csv', 'Keldon_Johnson'), ('./data/Ziaire_Williams.csv', 'Ziaire_Williams'), ('./data/Quentin_Grimes.csv', 'Quentin_Grimes'), ('./data/Nikola_Jokić.csv', 'Nikola_Jokić'), ('./data/Gary_Harris.csv', 'Gary_Harris'), ('./data/LaMelo_Ball.csv', 'LaMelo_Ball'), ('./data/Liam_Robbins.csv', 'Liam_Robbins'), ('./data/Trey_Murphy_III.csv', 'Trey_Murphy_III'), ('./data/Anthony_Black.csv', 'Anthony_Black'), ('./data/Nick_Richards.csv', 'Nick_Richards'), ('./data/Michael_Porter_Jr_.csv', 'Michael_Porter_Jr_'), ('./data/Bradley_Beal.csv', 'Bradley_Beal'), ('./data/Cory_Joseph.csv', 'Cory_Joseph'), ('./data/Victor_Wembanyama.csv', 'Victor_Wembanyama'), ('./data/Jalen_Brunson.csv', 'Jalen_Brunson'), ('./data/Isaiah_Wong.csv', 'Isaiah_Wong'), ('./data/Giannis_Antetokounmpo.csv', 'Giannis_Antetokounmpo'), ('./data/Donovan_Mitchell.csv', 'Donovan_Mitchell'), ('./data/Rayan_Rupert.csv', 'Rayan_Rupert'), ('./data/Keaton_Wallace.csv', 'Keaton_Wallace'), ('./data/Dereck_Lively_II.csv', 'Dereck_Lively_II'), ('./data/Tyus_Jones.csv', 'Tyus_Jones'), ('./data/Tyrese_Maxey.csv', 'Tyrese_Maxey'), ('./data/Brandon_Boston.csv', 'Brandon_Boston'), ('./data/Ariel_Hukporti.csv', 'Ariel_Hukporti'), ('./data/Kenrich_Williams.csv', 'Kenrich_Williams'), ('./data/Kyle_Lowry.csv', 'Kyle_Lowry'), ('./data/Ron_Harper_Jr_.csv', 'Ron_Harper_Jr_'), ('./data/Emanuel_Miller.csv', 'Emanuel_Miller'), ('./data/Jonas_Valančiūnas.csv', 'Jonas_Valančiūnas'), ('./data/Justin_Champagnie.csv', 'Justin_Champagnie'), ('./data/Kevin_Love.csv', 'Kevin_Love'), ('./data/Naji_Marshall.csv', 'Naji_Marshall'), ('./data/Jamal_Cain.csv', 'Jamal_Cain'), ('./data/Trendon_Watford.csv', 'Trendon_Watford'), ('./data/Vasilije_Micić.csv', 'Vasilije_Micić'), ('./data/RJ_Barrett.csv', 'RJ_Barrett'), ('./data/Lindy_Waters_III.csv', 'Lindy_Waters_III'), ('./data/Jamal_Murray.csv', 'Jamal_Murray'), ('./data/Nic_Claxton.csv', 'Nic_Claxton'), ('./data/Bol_Bol.csv', 'Bol_Bol'), ('./data/Alex_Caruso.csv', 'Alex_Caruso'), ('./data/Alperen_Sengun.csv', 'Alperen_Sengun'), ('./data/Matisse_Thybulle.csv', 'Matisse_Thybulle'), ('./data/Jeremy_Sochan.csv', 'Jeremy_Sochan'), ('./data/Jordan_McLaughlin.csv', 'Jordan_McLaughlin'), ('./data/Bones_Hyland.csv', 'Bones_Hyland'), ('./data/Ben_Sheppard.csv', 'Ben_Sheppard'), ('./data/Nikola_Jović.csv', 'Nikola_Jović'), ('./data/Xavier_Tillman.csv', 'Xavier_Tillman'), ('./data/Colby_Jones.csv', 'Colby_Jones'), ('./data/Jared_Butler.csv', 'Jared_Butler'), ('./data/Kai_Jones.csv', 'Kai_Jones'), ('./data/Zeke_Nnaji.csv', 'Zeke_Nnaji'), ('./data/P_J__Washington.csv', 'P_J__Washington'), ('./data/Isaiah_Stewart.csv', 'Isaiah_Stewart'), ('./data/Ausar_Thompson.csv', 'Ausar_Thompson'), ('./data/Svi_Mykhailiuk.csv', 'Svi_Mykhailiuk'), ('./data/Cole_Swider.csv', 'Cole_Swider'), ('./data/Eric_Gordon.csv', 'Eric_Gordon'), ('./data/Gabe_Vincent.csv', 'Gabe_Vincent'), ('./data/Marvin_Bagley_III.csv', 'Marvin_Bagley_III'), ('./data/Chris_Boucher.csv', 'Chris_Boucher'), ('./data/Johnny_Davis.csv', 'Johnny_Davis'), ('./data/Cam_Reddish.csv', 'Cam_Reddish'), ('./data/Tristan_da_Silva.csv', 'Tristan_da_Silva'), ('./data/Colin_Castleton.csv', 'Colin_Castleton'), ('./data/Ajay_Mitchell.csv', 'Ajay_Mitchell'), ('./data/Bobby_Portis.csv', 'Bobby_Portis'), ('./data/Zach_Collins.csv', 'Zach_Collins'), ('./data/Payton_Pritchard.csv', 'Payton_Pritchard'), ('./data/Jaylin_Williams.csv', 'Jaylin_Williams'), ('./data/Brice_Sensabaugh.csv', 'Brice_Sensabaugh'), ('./data/Gary_Trent_Jr_.csv', 'Gary_Trent_Jr_'), ('./data/Johnny_Juzang.csv', 'Johnny_Juzang'), ('./data/Bam_Adebayo.csv', 'Bam_Adebayo'), ('./data/Hunter_Tyson.csv', 'Hunter_Tyson'), ('./data/D_Angelo_Russell.csv', 'D_Angelo_Russell'), ('./data/Kevin_Porter_Jr_.csv', 'Kevin_Porter_Jr_'), ('./data/Jose_Alvarado.csv', 'Jose_Alvarado'), ('./data/Luguentz_Dort.csv', 'Luguentz_Dort'), ('./data/Devin_Vassell.csv', 'Devin_Vassell'), ('./data/Jalen_Duren.csv', 'Jalen_Duren'), ('./data/T_J__McConnell.csv', 'T_J__McConnell'), ('./data/Brook_Lopez.csv', 'Brook_Lopez'), ('./data/Al_Horford.csv', 'Al_Horford'), ('./data/Jrue_Holiday.csv', 'Jrue_Holiday'), ('./data/Derrick_Jones_Jr_.csv', 'Derrick_Jones_Jr_'), ('./data/Jonathan_Kuminga.csv', 'Jonathan_Kuminga'), ('./data/Quenton_Jackson.csv', 'Quenton_Jackson'), ('./data/Skal_Labissiere.csv', 'Skal_Labissiere'), ('./data/Dwight_Powell.csv', 'Dwight_Powell'), ('./data/Jalen_Williams.csv', 'Jalen_Williams'), ('./data/Bub_Carrington.csv', 'Bub_Carrington'), ('./data/Rob_Dillingham.csv', 'Rob_Dillingham'), ('./data/Jaden_Ivey.csv', 'Jaden_Ivey'), ('./data/Paul_George.csv', 'Paul_George'), ('./data/Neemias_Queta.csv', 'Neemias_Queta'), ('./data/Pelle_Larsson.csv', 'Pelle_Larsson'), ('./data/Aaron_Gordon.csv', 'Aaron_Gordon'), ('./data/Grayson_Allen.csv', 'Grayson_Allen'), ('./data/Spencer_Jones.csv', 'Spencer_Jones'), ('./data/Myles_Turner.csv', 'Myles_Turner'), ('./data/Alex_Len.csv', 'Alex_Len'), ('./data/AJ_Johnson.csv', 'AJ_Johnson'), ('./data/Brandin_Podziemski.csv', 'Brandin_Podziemski'), ('./data/Haywood_Highsmith.csv', 'Haywood_Highsmith'), ('./data/Dillon_Jones.csv', 'Dillon_Jones'), ('./data/Vince_Williams_Jr_.csv', 'Vince_Williams_Jr_'), ('./data/Killian_Hayes.csv', 'Killian_Hayes'), ('./data/Christian_Koloko.csv', 'Christian_Koloko'), ('./data/Zach_LaVine.csv', 'Zach_LaVine'), ('./data/E_J__Liddell.csv', 'E_J__Liddell'), ('./data/Jordan_Hawkins.csv', 'Jordan_Hawkins'), ('./data/Desmond_Bane.csv', 'Desmond_Bane'), ('./data/Brandon_Williams.csv', 'Brandon_Williams'), ('./data/Anthony_Edwards.csv', 'Anthony_Edwards'), ('./data/N_Faly_Dante.csv', 'N_Faly_Dante'), ('./data/Jeremiah_Robinson-Earl.csv', 'Jeremiah_Robinson-Earl'), ('./data/Trey_Lyles.csv', 'Trey_Lyles'), ('./data/Trentyn_Flowers.csv', 'Trentyn_Flowers'), ('./data/Rui_Hachimura.csv', 'Rui_Hachimura'), ('./data/Orlando_Robinson.csv', 'Orlando_Robinson'), ('./data/Moussa_Diabaté.csv', 'Moussa_Diabaté'), ('./data/Keshad_Johnson.csv', 'Keshad_Johnson'), ('./data/Spencer_Dinwiddie.csv', 'Spencer_Dinwiddie'), ('./data/A_J__Lawson.csv', 'A_J__Lawson'), ('./data/Kevin_Knox_II.csv', 'Kevin_Knox_II'), ('./data/Austin_Reaves.csv', 'Austin_Reaves'), ('./data/Dario_Šarić.csv', 'Dario_Šarić'), ('./data/Reed_Sheppard.csv', 'Reed_Sheppard'), ('./data/Dalen_Terry.csv', 'Dalen_Terry'), ('./data/Tyrese_Martin.csv', 'Tyrese_Martin'), ('./data/Talen_Horton-Tucker.csv', 'Talen_Horton-Tucker'), ('./data/Cole_Anthony.csv', 'Cole_Anthony'), ('./data/Tidjane_Salaün.csv', 'Tidjane_Salaün'), ('./data/JD_Davison.csv', 'JD_Davison'), ('./data/Keion_Brooks_Jr_.csv', 'Keion_Brooks_Jr_'), ('./data/Malcolm_Brogdon.csv', 'Malcolm_Brogdon'), ('./data/Elijah_Harkless.csv', 'Elijah_Harkless'), ('./data/Dru_Smith.csv', 'Dru_Smith'), ('./data/Jarrett_Allen.csv', 'Jarrett_Allen'), ('./data/Cam_Thomas.csv', 'Cam_Thomas'), ('./data/Monté_Morris.csv', 'Monté_Morris'), ('./data/Terrence_Shannon_Jr_.csv', 'Terrence_Shannon_Jr_'), ('./data/Marcus_Smart.csv', 'Marcus_Smart'), ('./data/Shai_Gilgeous-Alexander.csv', 'Shai_Gilgeous-Alexander'), ('./data/Onyeka_Okongwu.csv', 'Onyeka_Okongwu'), ('./data/Jaylon_Tyson.csv', 'Jaylon_Tyson'), ('./data/Wendell_Moore_Jr_.csv', 'Wendell_Moore_Jr_'), ('./data/Brandon_Ingram.csv', 'Brandon_Ingram'), ('./data/Davion_Mitchell.csv', 'Davion_Mitchell'), ('./data/Matas_Buzelis.csv', 'Matas_Buzelis'), ('./data/Bronny_James.csv', 'Bronny_James'), ('./data/Malachi_Flynn.csv', 'Malachi_Flynn'), ('./data/Donovan_Clingan.csv', 'Donovan_Clingan'), ('./data/Ty_Jerome.csv', 'Ty_Jerome'), ('./data/Isaiah_Stevens.csv', 'Isaiah_Stevens'), ('./data/Royce_O_Neale.csv', 'Royce_O_Neale'), ('./data/Cameron_Johnson.csv', 'Cameron_Johnson'), ('./data/Caleb_Houstan.csv', 'Caleb_Houstan'), ('./data/Cui_Yongxi.csv', 'Cui_Yongxi'), ('./data/Collin_Sexton.csv', 'Collin_Sexton'), ('./data/Kawhi_Leonard.csv', 'Kawhi_Leonard'), ('./data/Anton_Watson.csv', 'Anton_Watson'), ('./data/Riley_Minix.csv', 'Riley_Minix'), ('./data/Vít_Krejčí.csv', 'Vít_Krejčí'), ('./data/Peyton_Watson.csv', 'Peyton_Watson'), ('./data/Jaden_Springer.csv', 'Jaden_Springer'), ('./data/Pat_Spencer.csv', 'Pat_Spencer'), ('./data/Steven_Adams.csv', 'Steven_Adams'), ('./data/Nae_Qwan_Tomlin.csv', 'Nae_Qwan_Tomlin'), ('./data/Luka_Garza.csv', 'Luka_Garza'), ('./data/Mike_Conley.csv', 'Mike_Conley'), ('./data/Tre_Mann.csv', 'Tre_Mann'), ('./data/Ryan_Rollins.csv', 'Ryan_Rollins'), ('./data/OG_Anunoby.csv', 'OG_Anunoby'), ('./data/Kristaps_Porziņģis.csv', 'Kristaps_Porziņģis'), ('./data/Tre_Jones.csv', 'Tre_Jones'), ('./data/Ivica_Zubac.csv', 'Ivica_Zubac'), ('./data/De_Anthony_Melton.csv', 'De_Anthony_Melton'), ('./data/Ja_Morant.csv', 'Ja_Morant'), ('./data/Keyonte_George.csv', 'Keyonte_George'), ('./data/Josh_Richardson.csv', 'Josh_Richardson'), ('./data/Craig_Porter_Jr_.csv', 'Craig_Porter_Jr_'), ('./data/Kris_Murray.csv', 'Kris_Murray'), ('./data/Maxi_Kleber.csv', 'Maxi_Kleber'), ('./data/CJ_McCollum.csv', 'CJ_McCollum'), ('./data/Jaylen_Nowell.csv', 'Jaylen_Nowell'), ('./data/Jalen_McDaniels.csv', 'Jalen_McDaniels'), ('./data/Taj_Gibson.csv', 'Taj_Gibson'), ('./data/Leonard_Miller.csv', 'Leonard_Miller'), ('./data/Terance_Mann.csv', 'Terance_Mann'), ('./data/Johnny_Furphy.csv', 'Johnny_Furphy'), ('./data/Jimmy_Butler_III.csv', 'Jimmy_Butler_III'), ('./data/Moses_Brown.csv', 'Moses_Brown'), ('./data/Trevelin_Queen.csv', 'Trevelin_Queen'), ('./data/Isaac_Jones.csv', 'Isaac_Jones'), ('./data/Jackson_Rowe.csv', 'Jackson_Rowe'), ('./data/Tyrese_Haliburton.csv', 'Tyrese_Haliburton'), ('./data/Jett_Howard.csv', 'Jett_Howard'), ('./data/Cade_Cunningham.csv', 'Cade_Cunningham'), ('./data/Trae_Young.csv', 'Trae_Young'), ('./data/Ryan_Dunn.csv', 'Ryan_Dunn'), ('./data/Jaxson_Hayes.csv', 'Jaxson_Hayes'), ('./data/Moses_Moody.csv', 'Moses_Moody'), ('./data/Oscar_Tshiebwe.csv', 'Oscar_Tshiebwe'), ('./data/John_Konchar.csv', 'John_Konchar'), ('./data/Matt_Ryan.csv', 'Matt_Ryan'), ('./data/Duop_Reath.csv', 'Duop_Reath'), ('./data/Vlatko_Čančar.csv', 'Vlatko_Čančar'), ('./data/Precious_Achiuwa.csv', 'Precious_Achiuwa'), ('./data/Dariq_Whitehead.csv', 'Dariq_Whitehead'), ('./data/Doug_McDermott.csv', 'Doug_McDermott'), ('./data/Andrew_Wiggins.csv', 'Andrew_Wiggins'), ('./data/Luke_Kornet.csv', 'Luke_Kornet'), ('./data/Jalen_Pickett.csv', 'Jalen_Pickett'), ('./data/Dejounte_Murray.csv', 'Dejounte_Murray'), ('./data/Mason_Jones.csv', 'Mason_Jones'), ('./data/Nickeil_Alexander-Walker.csv', 'Nickeil_Alexander-Walker'), ('./data/Jared_McCain.csv', 'Jared_McCain'), ('./data/Kel_el_Ware.csv', 'Kel_el_Ware'), ('./data/Bogdan_Bogdanović.csv', 'Bogdan_Bogdanović'), ('./data/Kentavious_Caldwell-Pope.csv', 'Kentavious_Caldwell-Pope'), ('./data/Charles_Bassey.csv', 'Charles_Bassey'), ('./data/Robert_Williams_III.csv', 'Robert_Williams_III'), ('./data/Nikola_Vučević.csv', 'Nikola_Vučević'), ('./data/Stanley_Umude.csv', 'Stanley_Umude'), ('./data/Emoni_Bates.csv', 'Emoni_Bates'), ('./data/Kyrie_Irving.csv', 'Kyrie_Irving'), ('./data/Josh_Giddey.csv', 'Josh_Giddey'), ('./data/Kyle_Kuzma.csv', 'Kyle_Kuzma'), ('./data/Deandre_Ayton.csv', 'Deandre_Ayton'), ('./data/Ousmane_Dieng.csv', 'Ousmane_Dieng'), ('./data/Isaiah_Jackson.csv', 'Isaiah_Jackson'), ('./data/Anthony_Gill.csv', 'Anthony_Gill'), ('./data/Larry_Nance_Jr_.csv', 'Larry_Nance_Jr_'), ('./data/Day_Ron_Sharpe.csv', 'Day_Ron_Sharpe'), ('./data/David_Roddy.csv', 'David_Roddy'), ('./data/Dorian_Finney-Smith.csv', 'Dorian_Finney-Smith'), ('./data/Buddy_Hield.csv', 'Buddy_Hield'), ('./data/Jack_McVeigh.csv', 'Jack_McVeigh'), ('./data/Jabari_Walker.csv', 'Jabari_Walker'), ('./data/Jordan_Clarkson.csv', 'Jordan_Clarkson'), ('./data/Tim_Hardaway_Jr_.csv', 'Tim_Hardaway_Jr_'), ('./data/Cason_Wallace.csv', 'Cason_Wallace'), ('./data/Jusuf_Nurkić.csv', 'Jusuf_Nurkić'), ('./data/Paolo_Banchero.csv', 'Paolo_Banchero'), ('./data/Keon_Johnson.csv', 'Keon_Johnson'), ('./data/Jarred_Vanderbilt.csv', 'Jarred_Vanderbilt'), ('./data/Lonzo_Ball.csv', 'Lonzo_Ball'), ('./data/Tony_Bradley.csv', 'Tony_Bradley'), ('./data/Kyshawn_George.csv', 'Kyshawn_George'), ('./data/Jaden_McDaniels.csv', 'Jaden_McDaniels'), ('./data/Stephen_Curry.csv', 'Stephen_Curry'), ('./data/Jared_Rhoden.csv', 'Jared_Rhoden'), ('./data/Tristen_Newton.csv', 'Tristen_Newton'), ('./data/Jonathan_Isaac.csv', 'Jonathan_Isaac'), ('./data/Jake_LaRavia.csv', 'Jake_LaRavia'), ('./data/Bennedict_Mathurin.csv', 'Bennedict_Mathurin'), ('./data/Dillon_Brooks.csv', 'Dillon_Brooks'), ('./data/Scottie_Barnes.csv', 'Scottie_Barnes'), ('./data/Jaden_Hardy.csv', 'Jaden_Hardy'), ('./data/Mark_Williams.csv', 'Mark_Williams'), ('./data/Torrey_Craig.csv', 'Torrey_Craig'), ('./data/Fred_VanVleet.csv', 'Fred_VanVleet'), ('./data/Terence_Davis.csv', 'Terence_Davis'), ('./data/Tazé_Moore.csv', 'Tazé_Moore'), ('./data/Josh_Hart.csv', 'Josh_Hart'), ('./data/Miles_Bridges.csv', 'Miles_Bridges'), ('./data/Andre_Drummond.csv', 'Andre_Drummond'), ('./data/Russell_Westbrook.csv', 'Russell_Westbrook'), ('./data/Chris_Livingston.csv', 'Chris_Livingston'), ('./data/Garrison_Mathews.csv', 'Garrison_Mathews'), ('./data/Tolu_Smith.csv', 'Tolu_Smith'), ('./data/Ochai_Agbaji.csv', 'Ochai_Agbaji'), ('./data/DeMar_DeRozan.csv', 'DeMar_DeRozan'), ('./data/Kyle_Anderson.csv', 'Kyle_Anderson'), ('./data/Cody_Williams.csv', 'Cody_Williams'), ('./data/Kevin_Durant.csv', 'Kevin_Durant'), ('./data/Kelly_Oubre_Jr_.csv', 'Kelly_Oubre_Jr_'), ('./data/Bismack_Biyombo.csv', 'Bismack_Biyombo'), ('./data/Jalen_Green.csv', 'Jalen_Green'), ('./data/Olivier-Maxence_Prosper.csv', 'Olivier-Maxence_Prosper'), ('./data/Drew_Eubanks.csv', 'Drew_Eubanks'), ('./data/Bruce_Brown.csv', 'Bruce_Brown'), ('./data/Cody_Martin.csv', 'Cody_Martin'), ('./data/Mac_McClung.csv', 'Mac_McClung'), ('./data/Trayce_Jackson-Davis.csv', 'Trayce_Jackson-Davis'), ('./data/Jesse_Edwards.csv', 'Jesse_Edwards'), ('./data/Kevin_Huerter.csv', 'Kevin_Huerter'), ('./data/Jahmir_Young.csv', 'Jahmir_Young'), ('./data/Aaron_Holiday.csv', 'Aaron_Holiday'), ('./data/Mouhamed_Gueye.csv', 'Mouhamed_Gueye'), ('./data/Max_Strus.csv', 'Max_Strus'), ('./data/Tyler_Herro.csv', 'Tyler_Herro'), ('./data/Jazian_Gortman.csv', 'Jazian_Gortman'), ('./data/Tristan_Vukcevic.csv', 'Tristan_Vukcevic'), ('./data/Marcus_Sasser.csv', 'Marcus_Sasser'), ('./data/Bruno_Fernando.csv', 'Bruno_Fernando'), ('./data/Jaylen_Wells.csv', 'Jaylen_Wells'), ('./data/Adem_Bona.csv', 'Adem_Bona'), ('./data/Dalano_Banton.csv', 'Dalano_Banton')]\n"
     ]
    }
   ],
   "source": [
    "print(filepaths_and_players)"
   ]
  },
  {
   "cell_type": "code",
   "execution_count": 55,
   "metadata": {},
   "outputs": [],
   "source": [
    "for filepath, player in filepaths_and_players:\n",
    "    \n",
    "    df = transform_nba_game_log(filepath)\n",
    "    team = df[\"Team\"].unique()\n",
    "    team_code = team[0]\n",
    "    output_dir = f\"./all_player_game_data/{team_code}\"\n",
    "    os.makedirs(output_dir, exist_ok=True)\n",
    "    df.to_csv(f\"{output_dir}/{player}.csv\", index=False)"
   ]
  },
  {
   "cell_type": "code",
   "execution_count": 42,
   "metadata": {},
   "outputs": [],
   "source": [
    "# df = transform_nba_game_log(\"./Jarrett_Allen.csv\")\n",
    "df = pd.read_csv(\"./all_player_game_data/CLE/Jarrett_Allen.csv\")\n"
   ]
  },
  {
   "cell_type": "code",
   "execution_count": 43,
   "metadata": {},
   "outputs": [
    {
     "name": "stdout",
     "output_type": "stream",
     "text": [
      "Index(['Date', 'Team', 'Unnamed: 2', 'Opp', 'Result', 'GS', 'MP', 'FG', 'FGA',\n",
      "       'FG%', '3P', '3PA', '3P%', '2P', '2PA', '2P%', 'eFG%', 'FT', 'FTA',\n",
      "       'FT%', 'ORB', 'DRB', 'TRB', 'AST', 'STL', 'BLK', 'TOV', 'PF', 'PTS',\n",
      "       '+/-'],\n",
      "      dtype='object')\n"
     ]
    }
   ],
   "source": [
    "print(df.columns)"
   ]
  },
  {
   "cell_type": "code",
   "execution_count": null,
   "metadata": {},
   "outputs": [],
   "source": [
    "df"
   ]
  },
  {
   "cell_type": "code",
   "execution_count": 17,
   "metadata": {},
   "outputs": [],
   "source": [
    "opps = []\n",
    "opps = df['Opp'].unique()"
   ]
  },
  {
   "cell_type": "code",
   "execution_count": 18,
   "metadata": {},
   "outputs": [
    {
     "name": "stdout",
     "output_type": "stream",
     "text": [
      "['IND' 'NYK' 'CHI' 'SAC' 'SAS' 'LAC' 'DET' 'POR' 'UTA' 'PHX' 'ORL' 'MEM'\n",
      " 'BKN' 'MIL' 'CHA' 'MIA' 'BOS' 'TOR' 'MIN' 'WAS' 'DAL' 'ATL' 'HOU' 'PHI'\n",
      " 'OKC' 'LAL' 'GSW' 'DEN' 'NOP']\n"
     ]
    }
   ],
   "source": [
    "print(opps)"
   ]
  },
  {
   "cell_type": "code",
   "execution_count": 11,
   "metadata": {},
   "outputs": [],
   "source": [
    "df2 = pd.read_csv(\"../backend/data/player_game_data/LAL/lebron_james.csv\")"
   ]
  },
  {
   "cell_type": "code",
   "execution_count": 12,
   "metadata": {},
   "outputs": [],
   "source": [
    "opps2 = []\n",
    "opps2 = df2[\"Opp\"].unique()"
   ]
  },
  {
   "cell_type": "code",
   "execution_count": 28,
   "metadata": {},
   "outputs": [
    {
     "name": "stdout",
     "output_type": "stream",
     "text": [
      "['MIN' 'PHO' 'SAC' 'CLE' 'TOR' 'DET' 'MEM' 'PHI' 'SAS' 'NOP' 'UTA' 'ORL'\n",
      " 'DEN' 'OKC' 'MIA' 'ATL' 'POR' 'GSW' 'HOU' 'DAL' 'BRK' 'LAC' 'WAS' 'BOS'\n",
      " 'CHO' 'NYK' 'IND' 'MIL' 'CHI']\n"
     ]
    },
    {
     "ename": "KeyError",
     "evalue": "'Player_Name'",
     "output_type": "error",
     "traceback": [
      "\u001b[0;31m---------------------------------------------------------------------------\u001b[0m",
      "\u001b[0;31mKeyError\u001b[0m                                  Traceback (most recent call last)",
      "File \u001b[0;32m/Library/Frameworks/Python.framework/Versions/3.12/lib/python3.12/site-packages/pandas/core/indexes/base.py:3805\u001b[0m, in \u001b[0;36mIndex.get_loc\u001b[0;34m(self, key)\u001b[0m\n\u001b[1;32m   3804\u001b[0m \u001b[38;5;28;01mtry\u001b[39;00m:\n\u001b[0;32m-> 3805\u001b[0m     \u001b[38;5;28;01mreturn\u001b[39;00m \u001b[38;5;28;43mself\u001b[39;49m\u001b[38;5;241;43m.\u001b[39;49m\u001b[43m_engine\u001b[49m\u001b[38;5;241;43m.\u001b[39;49m\u001b[43mget_loc\u001b[49m\u001b[43m(\u001b[49m\u001b[43mcasted_key\u001b[49m\u001b[43m)\u001b[49m\n\u001b[1;32m   3806\u001b[0m \u001b[38;5;28;01mexcept\u001b[39;00m \u001b[38;5;167;01mKeyError\u001b[39;00m \u001b[38;5;28;01mas\u001b[39;00m err:\n",
      "File \u001b[0;32mindex.pyx:167\u001b[0m, in \u001b[0;36mpandas._libs.index.IndexEngine.get_loc\u001b[0;34m()\u001b[0m\n",
      "File \u001b[0;32mindex.pyx:196\u001b[0m, in \u001b[0;36mpandas._libs.index.IndexEngine.get_loc\u001b[0;34m()\u001b[0m\n",
      "File \u001b[0;32mpandas/_libs/hashtable_class_helper.pxi:7081\u001b[0m, in \u001b[0;36mpandas._libs.hashtable.PyObjectHashTable.get_item\u001b[0;34m()\u001b[0m\n",
      "File \u001b[0;32mpandas/_libs/hashtable_class_helper.pxi:7089\u001b[0m, in \u001b[0;36mpandas._libs.hashtable.PyObjectHashTable.get_item\u001b[0;34m()\u001b[0m\n",
      "\u001b[0;31mKeyError\u001b[0m: 'Player_Name'",
      "\nThe above exception was the direct cause of the following exception:\n",
      "\u001b[0;31mKeyError\u001b[0m                                  Traceback (most recent call last)",
      "Cell \u001b[0;32mIn[28], line 3\u001b[0m\n\u001b[1;32m      1\u001b[0m \u001b[38;5;28mprint\u001b[39m(opps2)\n\u001b[1;32m      2\u001b[0m team \u001b[38;5;241m=\u001b[39m df2[\u001b[38;5;124m\"\u001b[39m\u001b[38;5;124mTeam\u001b[39m\u001b[38;5;124m\"\u001b[39m]\u001b[38;5;241m.\u001b[39munique()\n\u001b[0;32m----> 3\u001b[0m player \u001b[38;5;241m=\u001b[39m \u001b[43mdf2\u001b[49m\u001b[43m[\u001b[49m\u001b[38;5;124;43m\"\u001b[39;49m\u001b[38;5;124;43mPlayer_Name\u001b[39;49m\u001b[38;5;124;43m\"\u001b[39;49m\u001b[43m]\u001b[49m\n",
      "File \u001b[0;32m/Library/Frameworks/Python.framework/Versions/3.12/lib/python3.12/site-packages/pandas/core/frame.py:4090\u001b[0m, in \u001b[0;36mDataFrame.__getitem__\u001b[0;34m(self, key)\u001b[0m\n\u001b[1;32m   4088\u001b[0m \u001b[38;5;28;01mif\u001b[39;00m \u001b[38;5;28mself\u001b[39m\u001b[38;5;241m.\u001b[39mcolumns\u001b[38;5;241m.\u001b[39mnlevels \u001b[38;5;241m>\u001b[39m \u001b[38;5;241m1\u001b[39m:\n\u001b[1;32m   4089\u001b[0m     \u001b[38;5;28;01mreturn\u001b[39;00m \u001b[38;5;28mself\u001b[39m\u001b[38;5;241m.\u001b[39m_getitem_multilevel(key)\n\u001b[0;32m-> 4090\u001b[0m indexer \u001b[38;5;241m=\u001b[39m \u001b[38;5;28;43mself\u001b[39;49m\u001b[38;5;241;43m.\u001b[39;49m\u001b[43mcolumns\u001b[49m\u001b[38;5;241;43m.\u001b[39;49m\u001b[43mget_loc\u001b[49m\u001b[43m(\u001b[49m\u001b[43mkey\u001b[49m\u001b[43m)\u001b[49m\n\u001b[1;32m   4091\u001b[0m \u001b[38;5;28;01mif\u001b[39;00m is_integer(indexer):\n\u001b[1;32m   4092\u001b[0m     indexer \u001b[38;5;241m=\u001b[39m [indexer]\n",
      "File \u001b[0;32m/Library/Frameworks/Python.framework/Versions/3.12/lib/python3.12/site-packages/pandas/core/indexes/base.py:3812\u001b[0m, in \u001b[0;36mIndex.get_loc\u001b[0;34m(self, key)\u001b[0m\n\u001b[1;32m   3807\u001b[0m     \u001b[38;5;28;01mif\u001b[39;00m \u001b[38;5;28misinstance\u001b[39m(casted_key, \u001b[38;5;28mslice\u001b[39m) \u001b[38;5;129;01mor\u001b[39;00m (\n\u001b[1;32m   3808\u001b[0m         \u001b[38;5;28misinstance\u001b[39m(casted_key, abc\u001b[38;5;241m.\u001b[39mIterable)\n\u001b[1;32m   3809\u001b[0m         \u001b[38;5;129;01mand\u001b[39;00m \u001b[38;5;28many\u001b[39m(\u001b[38;5;28misinstance\u001b[39m(x, \u001b[38;5;28mslice\u001b[39m) \u001b[38;5;28;01mfor\u001b[39;00m x \u001b[38;5;129;01min\u001b[39;00m casted_key)\n\u001b[1;32m   3810\u001b[0m     ):\n\u001b[1;32m   3811\u001b[0m         \u001b[38;5;28;01mraise\u001b[39;00m InvalidIndexError(key)\n\u001b[0;32m-> 3812\u001b[0m     \u001b[38;5;28;01mraise\u001b[39;00m \u001b[38;5;167;01mKeyError\u001b[39;00m(key) \u001b[38;5;28;01mfrom\u001b[39;00m \u001b[38;5;21;01merr\u001b[39;00m\n\u001b[1;32m   3813\u001b[0m \u001b[38;5;28;01mexcept\u001b[39;00m \u001b[38;5;167;01mTypeError\u001b[39;00m:\n\u001b[1;32m   3814\u001b[0m     \u001b[38;5;66;03m# If we have a listlike key, _check_indexing_error will raise\u001b[39;00m\n\u001b[1;32m   3815\u001b[0m     \u001b[38;5;66;03m#  InvalidIndexError. Otherwise we fall through and re-raise\u001b[39;00m\n\u001b[1;32m   3816\u001b[0m     \u001b[38;5;66;03m#  the TypeError.\u001b[39;00m\n\u001b[1;32m   3817\u001b[0m     \u001b[38;5;28mself\u001b[39m\u001b[38;5;241m.\u001b[39m_check_indexing_error(key)\n",
      "\u001b[0;31mKeyError\u001b[0m: 'Player_Name'"
     ]
    }
   ],
   "source": [
    "print(opps2)\n",
    "team = df2[\"Team\"].unique()\n",
    "player = df2[\"Player_Name\"]"
   ]
  },
  {
   "cell_type": "code",
   "execution_count": 27,
   "metadata": {},
   "outputs": [
    {
     "name": "stdout",
     "output_type": "stream",
     "text": [
      "LAL\n"
     ]
    }
   ],
   "source": [
    "print(team[0])"
   ]
  },
  {
   "cell_type": "code",
   "execution_count": null,
   "metadata": {},
   "outputs": [],
   "source": [
    "df.to_csv(\"./all_player_game_data/{team[0]}/{player}.csv\")"
   ]
  }
 ],
 "metadata": {
  "kernelspec": {
   "display_name": "Python 3",
   "language": "python",
   "name": "python3"
  },
  "language_info": {
   "codemirror_mode": {
    "name": "ipython",
    "version": 3
   },
   "file_extension": ".py",
   "mimetype": "text/x-python",
   "name": "python",
   "nbconvert_exporter": "python",
   "pygments_lexer": "ipython3",
   "version": "3.12.2"
  }
 },
 "nbformat": 4,
 "nbformat_minor": 2
}
